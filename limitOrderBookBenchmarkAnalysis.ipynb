{
 "cells": [
  {
   "cell_type": "markdown",
   "id": "84895a50-d27f-4ca1-8399-40b07842a2df",
   "metadata": {},
   "source": [
    "**Benchmark Dataset for Mid-Price Forecasting of Limit Order Book Data with Machine Learning Methods**\n",
    "\n",
    "The paper *Benchmark Dataset for Mid-Price Forecasting of Limit Order Book Data with Machine Learning Methods* extracted normalized data representations of time series data for five stocks from the NASDAQ Nordic stock market over a period of ten consecutive days. This process resulted in a dataset comprising around four million time series samples in total, providing a comprehensive market-wide history spanning ten trading days.\n",
    "\n",
    "**Dataset:**\n",
    "Explore the Dataset: [Benchmark Dataset](https://etsin.fairdata.fi/dataset/73eb48d7-4dbc-4a10-a52a-da745b47a649)\n",
    "\n",
    "In this dataset, the rows indicate features such as asset price and volume, and the columns indicate timestamps. Typically, we would use the rows to indicate observation-level data per timestamp and use the columns to represent features or attributes. We would need to transpose the dataset.\n",
    "\n",
    "Also, based on the documentation on the dataset, the first 40 rows carry 10 levels of bid and ask from the order book, along with the volume of each particular price point. We have a total of 40 entries per timestamp since each side (buy and sell) contains 10 price levels, and each level includes two points: price and volume. In other words, the limit order book in a single time snapshot shows up as an array of 40 elements.\n"
   ]
  },
  {
   "cell_type": "code",
   "execution_count": 18,
   "id": "81800245-f223-4329-9360-183b38f45f62",
   "metadata": {},
   "outputs": [],
   "source": [
    "# initialise spark\n",
    "\n",
    "from pyspark.sql import SparkSession\n",
    "\n",
    "spark = (\n",
    "    SparkSession\n",
    "    .builder.appName(\"lob\")\n",
    "    .getOrCreate()\n",
    ")"
   ]
  },
  {
   "cell_type": "code",
   "execution_count": 19,
   "id": "ff84330a-01a0-4158-837c-f3fa96340cef",
   "metadata": {},
   "outputs": [
    {
     "name": "stdout",
     "output_type": "stream",
     "text": [
      "root\n",
      " |-- values: array (nullable = true)\n",
      " |    |-- element: float (containsNull = true)\n",
      "\n"
     ]
    }
   ],
   "source": [
    "# Dataset\n",
    "from pyspark.sql.functions import col, monotonically_increasing_id, split, trim, udf, count, size, expr, explode\n",
    "from pyspark.sql.types import ArrayType, DoubleType, StringType, FloatType\n",
    "\n",
    "train_path = \"dataset/BenchmarkDatasets/NoAuction/3.NoAuction_DecPre/NoAuction_DecPre_Training/\"\n",
    "train_file = \"Train_Dst_NoAuction_DecPre_CF_9.txt\"\n",
    "\n",
    "# function for transformation\n",
    "@udf(ArrayType(FloatType()))\n",
    "def process_values(values):\n",
    "    return [round(float(v), 4) for v in values.split()]\n",
    "\n",
    "# Read data\n",
    "df = (\n",
    "    spark.read.text(train_path + train_file)\n",
    "    .withColumn(\"values\", process_values(col(\"value\")))\n",
    "    .drop(\"value\")\n",
    ")\n",
    "\n",
    "# Print the schema\n",
    "df.printSchema()\n",
    "\n",
    "# Get the first 40 rows\n",
    "ten_level_df = df.limit(40)"
   ]
  },
  {
   "cell_type": "code",
   "execution_count": 20,
   "id": "88e277ec-837c-40ae-8262-7dd599cb4d69",
   "metadata": {},
   "outputs": [],
   "source": [
    "# subset of the timestamp data\n",
    "df_with_slice = ten_level_df.withColumn(\"samples\", expr(\"slice(values, 1, 10)\")).drop(\"values\")"
   ]
  },
  {
   "cell_type": "code",
   "execution_count": 21,
   "id": "cced93df-ae7e-400c-826a-3bee484d0912",
   "metadata": {},
   "outputs": [
    {
     "name": "stderr",
     "output_type": "stream",
     "text": [
      "                                                                                \r"
     ]
    }
   ],
   "source": [
    "df_sampled = df_with_slice.toPandas()"
   ]
  },
  {
   "cell_type": "code",
   "execution_count": 22,
   "id": "c8a64df5-4ec2-4838-b366-e98ea3b567c6",
   "metadata": {},
   "outputs": [
    {
     "data": {
      "text/plain": [
       "(40, 1)"
      ]
     },
     "execution_count": 22,
     "metadata": {},
     "output_type": "execute_result"
    }
   ],
   "source": [
    "df_sampled.shape"
   ]
  },
  {
   "cell_type": "code",
   "execution_count": 23,
   "id": "83106dca-c828-4ac8-bbbb-d8c60b2a66e3",
   "metadata": {},
   "outputs": [
    {
     "data": {
      "text/html": [
       "<div>\n",
       "<style scoped>\n",
       "    .dataframe tbody tr th:only-of-type {\n",
       "        vertical-align: middle;\n",
       "    }\n",
       "\n",
       "    .dataframe tbody tr th {\n",
       "        vertical-align: top;\n",
       "    }\n",
       "\n",
       "    .dataframe thead th {\n",
       "        text-align: right;\n",
       "    }\n",
       "</style>\n",
       "<table border=\"1\" class=\"dataframe\">\n",
       "  <thead>\n",
       "    <tr style=\"text-align: right;\">\n",
       "      <th></th>\n",
       "      <th>samples</th>\n",
       "    </tr>\n",
       "  </thead>\n",
       "  <tbody>\n",
       "    <tr>\n",
       "      <th>0</th>\n",
       "      <td>[0.2615000009536743, 0.2615000009536743, 0.261...</td>\n",
       "    </tr>\n",
       "    <tr>\n",
       "      <th>1</th>\n",
       "      <td>[0.0035000001080334187, 0.002099999925121665, ...</td>\n",
       "    </tr>\n",
       "    <tr>\n",
       "      <th>2</th>\n",
       "      <td>[0.2606000006198883, 0.2606000006198883, 0.260...</td>\n",
       "    </tr>\n",
       "    <tr>\n",
       "      <th>3</th>\n",
       "      <td>[0.0032999999821186066, 0.0032999999821186066,...</td>\n",
       "    </tr>\n",
       "    <tr>\n",
       "      <th>4</th>\n",
       "      <td>[0.26179999113082886, 0.26190000772476196, 0.2...</td>\n",
       "    </tr>\n",
       "  </tbody>\n",
       "</table>\n",
       "</div>"
      ],
      "text/plain": [
       "                                             samples\n",
       "0  [0.2615000009536743, 0.2615000009536743, 0.261...\n",
       "1  [0.0035000001080334187, 0.002099999925121665, ...\n",
       "2  [0.2606000006198883, 0.2606000006198883, 0.260...\n",
       "3  [0.0032999999821186066, 0.0032999999821186066,...\n",
       "4  [0.26179999113082886, 0.26190000772476196, 0.2..."
      ]
     },
     "execution_count": 23,
     "metadata": {},
     "output_type": "execute_result"
    }
   ],
   "source": [
    "df_sampled.head()"
   ]
  },
  {
   "cell_type": "code",
   "execution_count": 24,
   "id": "85482d53-cca7-4855-aa5f-ab1b8518b24c",
   "metadata": {},
   "outputs": [],
   "source": [
    "ask_bid_prices = df_sampled[0::2]"
   ]
  },
  {
   "cell_type": "code",
   "execution_count": 25,
   "id": "088feff2-ff16-4693-a858-c70b7ec54d52",
   "metadata": {},
   "outputs": [],
   "source": [
    "ask_bid_volume = df_sampled[1::2]"
   ]
  },
  {
   "cell_type": "code",
   "execution_count": 34,
   "id": "e54603a8-d21d-4fcf-b961-5de4dfad80bb",
   "metadata": {},
   "outputs": [],
   "source": [
    "a_b_volume_df = ask_bid_volume.reset_index(drop=True)\n",
    "a_b_volume_df[\"samples\"] = a_b_volume_df.apply(lambda row: row[\"samples\"][::-1] if row.name % 2 == 1 else row[\"samples\"], axis=1)"
   ]
  },
  {
   "cell_type": "code",
   "execution_count": 35,
   "id": "a3581105-381f-4e07-b80f-876449b8baaf",
   "metadata": {},
   "outputs": [
    {
     "data": {
      "text/html": [
       "<div>\n",
       "<style scoped>\n",
       "    .dataframe tbody tr th:only-of-type {\n",
       "        vertical-align: middle;\n",
       "    }\n",
       "\n",
       "    .dataframe tbody tr th {\n",
       "        vertical-align: top;\n",
       "    }\n",
       "\n",
       "    .dataframe thead th {\n",
       "        text-align: right;\n",
       "    }\n",
       "</style>\n",
       "<table border=\"1\" class=\"dataframe\">\n",
       "  <thead>\n",
       "    <tr style=\"text-align: right;\">\n",
       "      <th></th>\n",
       "      <th>samples</th>\n",
       "    </tr>\n",
       "  </thead>\n",
       "  <tbody>\n",
       "    <tr>\n",
       "      <th>0</th>\n",
       "      <td>[0.0035000001080334187, 0.002099999925121665, ...</td>\n",
       "    </tr>\n",
       "    <tr>\n",
       "      <th>1</th>\n",
       "      <td>[0.004999999888241291, 0.004000000189989805, 0...</td>\n",
       "    </tr>\n",
       "    <tr>\n",
       "      <th>2</th>\n",
       "      <td>[0.0020000000949949026, 0.0015999999595806003,...</td>\n",
       "    </tr>\n",
       "    <tr>\n",
       "      <th>3</th>\n",
       "      <td>[0.004000000189989805, 0.0017000000225380063, ...</td>\n",
       "    </tr>\n",
       "    <tr>\n",
       "      <th>4</th>\n",
       "      <td>[0.0015999999595806003, 0.00139999995008111, 0...</td>\n",
       "    </tr>\n",
       "    <tr>\n",
       "      <th>5</th>\n",
       "      <td>[0.0017000000225380063, 0.002099999925121665, ...</td>\n",
       "    </tr>\n",
       "    <tr>\n",
       "      <th>6</th>\n",
       "      <td>[0.0052999998442828655, 0.005400000140070915, ...</td>\n",
       "    </tr>\n",
       "    <tr>\n",
       "      <th>7</th>\n",
       "      <td>[0.0032999999821186066, 0.0032999999821186066,...</td>\n",
       "    </tr>\n",
       "    <tr>\n",
       "      <th>8</th>\n",
       "      <td>[0.001500000013038516, 0.001500000013038516, 0...</td>\n",
       "    </tr>\n",
       "    <tr>\n",
       "      <th>9</th>\n",
       "      <td>[0.00139999995008111, 0.00139999995008111, 0.0...</td>\n",
       "    </tr>\n",
       "    <tr>\n",
       "      <th>10</th>\n",
       "      <td>[0.00839999970048666, 0.007899999618530273, 0....</td>\n",
       "    </tr>\n",
       "    <tr>\n",
       "      <th>11</th>\n",
       "      <td>[0.0038999998942017555, 0.005799999926239252, ...</td>\n",
       "    </tr>\n",
       "    <tr>\n",
       "      <th>12</th>\n",
       "      <td>[0.001500000013038516, 0.001500000013038516, 0...</td>\n",
       "    </tr>\n",
       "    <tr>\n",
       "      <th>13</th>\n",
       "      <td>[0.0024999999441206455, 0.0038999998942017555,...</td>\n",
       "    </tr>\n",
       "    <tr>\n",
       "      <th>14</th>\n",
       "      <td>[0.007899999618530273, 0.003100000089034438, 0...</td>\n",
       "    </tr>\n",
       "    <tr>\n",
       "      <th>15</th>\n",
       "      <td>[0.004999999888241291, 0.004999999888241291, 0...</td>\n",
       "    </tr>\n",
       "    <tr>\n",
       "      <th>16</th>\n",
       "      <td>[0.001500000013038516, 0.0015999999595806003, ...</td>\n",
       "    </tr>\n",
       "    <tr>\n",
       "      <th>17</th>\n",
       "      <td>[0.0015999999595806003, 0.0015999999595806003,...</td>\n",
       "    </tr>\n",
       "    <tr>\n",
       "      <th>18</th>\n",
       "      <td>[0.003100000089034438, 0.00139999995008111, 0....</td>\n",
       "    </tr>\n",
       "    <tr>\n",
       "      <th>19</th>\n",
       "      <td>[0.00139999995008111, 0.00139999995008111, 0.0...</td>\n",
       "    </tr>\n",
       "  </tbody>\n",
       "</table>\n",
       "</div>"
      ],
      "text/plain": [
       "                                              samples\n",
       "0   [0.0035000001080334187, 0.002099999925121665, ...\n",
       "1   [0.004999999888241291, 0.004000000189989805, 0...\n",
       "2   [0.0020000000949949026, 0.0015999999595806003,...\n",
       "3   [0.004000000189989805, 0.0017000000225380063, ...\n",
       "4   [0.0015999999595806003, 0.00139999995008111, 0...\n",
       "5   [0.0017000000225380063, 0.002099999925121665, ...\n",
       "6   [0.0052999998442828655, 0.005400000140070915, ...\n",
       "7   [0.0032999999821186066, 0.0032999999821186066,...\n",
       "8   [0.001500000013038516, 0.001500000013038516, 0...\n",
       "9   [0.00139999995008111, 0.00139999995008111, 0.0...\n",
       "10  [0.00839999970048666, 0.007899999618530273, 0....\n",
       "11  [0.0038999998942017555, 0.005799999926239252, ...\n",
       "12  [0.001500000013038516, 0.001500000013038516, 0...\n",
       "13  [0.0024999999441206455, 0.0038999998942017555,...\n",
       "14  [0.007899999618530273, 0.003100000089034438, 0...\n",
       "15  [0.004999999888241291, 0.004999999888241291, 0...\n",
       "16  [0.001500000013038516, 0.0015999999595806003, ...\n",
       "17  [0.0015999999595806003, 0.0015999999595806003,...\n",
       "18  [0.003100000089034438, 0.00139999995008111, 0....\n",
       "19  [0.00139999995008111, 0.00139999995008111, 0.0..."
      ]
     },
     "execution_count": 35,
     "metadata": {},
     "output_type": "execute_result"
    }
   ],
   "source": [
    "a_b_volume_df"
   ]
  },
  {
   "cell_type": "code",
   "execution_count": 26,
   "id": "1e58d89b-733b-4b0c-bdaf-07c43bc636f5",
   "metadata": {},
   "outputs": [],
   "source": [
    "a_b_df = ask_bid_prices.reset_index(drop=True)"
   ]
  },
  {
   "cell_type": "code",
   "execution_count": 27,
   "id": "6e11162d-b3f9-465c-a8ff-46cd9d502707",
   "metadata": {},
   "outputs": [
    {
     "data": {
      "text/plain": [
       "(20, 1)"
      ]
     },
     "execution_count": 27,
     "metadata": {},
     "output_type": "execute_result"
    }
   ],
   "source": [
    "a_b_df.shape"
   ]
  },
  {
   "cell_type": "code",
   "execution_count": 28,
   "id": "78b85e92-6f8e-4a59-afec-a82ef19bbd57",
   "metadata": {},
   "outputs": [],
   "source": [
    "import numpy as np\n",
    "\n",
    "a_b_df\n",
    "a_b_df['samples'] = a_b_df['samples'].apply(lambda x: np.round(x, 4))\n"
   ]
  },
  {
   "cell_type": "code",
   "execution_count": 29,
   "id": "50373eeb-b68a-480e-8e0d-f24cb8c2ab67",
   "metadata": {},
   "outputs": [],
   "source": [
    "\n",
    "a_b_df[\"samples\"] = a_b_df.apply(lambda row: row[\"samples\"][::-1] if row.name % 2 == 1 else row[\"samples\"], axis=1)\n"
   ]
  },
  {
   "cell_type": "code",
   "execution_count": 30,
   "id": "9a970ccc-8082-4e64-966a-dc9453ec1c60",
   "metadata": {},
   "outputs": [
    {
     "data": {
      "text/html": [
       "<div>\n",
       "<style scoped>\n",
       "    .dataframe tbody tr th:only-of-type {\n",
       "        vertical-align: middle;\n",
       "    }\n",
       "\n",
       "    .dataframe tbody tr th {\n",
       "        vertical-align: top;\n",
       "    }\n",
       "\n",
       "    .dataframe thead th {\n",
       "        text-align: right;\n",
       "    }\n",
       "</style>\n",
       "<table border=\"1\" class=\"dataframe\">\n",
       "  <thead>\n",
       "    <tr style=\"text-align: right;\">\n",
       "      <th></th>\n",
       "      <th>samples</th>\n",
       "    </tr>\n",
       "  </thead>\n",
       "  <tbody>\n",
       "    <tr>\n",
       "      <th>0</th>\n",
       "      <td>[0.2615, 0.2615, 0.2614, 0.2614, 0.2614, 0.261...</td>\n",
       "    </tr>\n",
       "    <tr>\n",
       "      <th>1</th>\n",
       "      <td>[0.2612, 0.2611, 0.2611, 0.2607, 0.2607, 0.260...</td>\n",
       "    </tr>\n",
       "    <tr>\n",
       "      <th>2</th>\n",
       "      <td>[0.2618, 0.2619, 0.2615, 0.2617, 0.2617, 0.261...</td>\n",
       "    </tr>\n",
       "    <tr>\n",
       "      <th>3</th>\n",
       "      <td>[0.2611, 0.2609, 0.2609, 0.2606, 0.2606, 0.260...</td>\n",
       "    </tr>\n",
       "    <tr>\n",
       "      <th>4</th>\n",
       "      <td>[0.2619, 0.262, 0.2617, 0.2619, 0.2619, 0.2619...</td>\n",
       "    </tr>\n",
       "    <tr>\n",
       "      <th>5</th>\n",
       "      <td>[0.2609, 0.2607, 0.2607, 0.2602, 0.2604, 0.260...</td>\n",
       "    </tr>\n",
       "    <tr>\n",
       "      <th>6</th>\n",
       "      <td>[0.262, 0.2621, 0.2619, 0.262, 0.262, 0.262, 0...</td>\n",
       "    </tr>\n",
       "    <tr>\n",
       "      <th>7</th>\n",
       "      <td>[0.2606, 0.2606, 0.2606, 0.2601, 0.2602, 0.26,...</td>\n",
       "    </tr>\n",
       "    <tr>\n",
       "      <th>8</th>\n",
       "      <td>[0.2621, 0.2625, 0.262, 0.2621, 0.2621, 0.2621...</td>\n",
       "    </tr>\n",
       "    <tr>\n",
       "      <th>9</th>\n",
       "      <td>[0.2604, 0.2604, 0.2602, 0.26, 0.26, 0.2599, 0...</td>\n",
       "    </tr>\n",
       "    <tr>\n",
       "      <th>10</th>\n",
       "      <td>[0.2623, 0.2626, 0.2621, 0.2625, 0.2625, 0.262...</td>\n",
       "    </tr>\n",
       "    <tr>\n",
       "      <th>11</th>\n",
       "      <td>[0.2603, 0.2602, 0.2601, 0.2599, 0.2599, 0.259...</td>\n",
       "    </tr>\n",
       "    <tr>\n",
       "      <th>12</th>\n",
       "      <td>[0.2625, 0.2629, 0.2625, 0.2629, 0.2629, 0.262...</td>\n",
       "    </tr>\n",
       "    <tr>\n",
       "      <th>13</th>\n",
       "      <td>[0.2602, 0.2601, 0.26, 0.2595, 0.2595, 0.2593,...</td>\n",
       "    </tr>\n",
       "    <tr>\n",
       "      <th>14</th>\n",
       "      <td>[0.2626, 0.2633, 0.2626, 0.2633, 0.2633, 0.263...</td>\n",
       "    </tr>\n",
       "    <tr>\n",
       "      <th>15</th>\n",
       "      <td>[0.26, 0.26, 0.2599, 0.2593, 0.2593, 0.2591, 0...</td>\n",
       "    </tr>\n",
       "    <tr>\n",
       "      <th>16</th>\n",
       "      <td>[0.2629, 0.2637, 0.2629, 0.2637, 0.2637, 0.263...</td>\n",
       "    </tr>\n",
       "    <tr>\n",
       "      <th>17</th>\n",
       "      <td>[0.2599, 0.2599, 0.2595, 0.2591, 0.2591, 0.258...</td>\n",
       "    </tr>\n",
       "    <tr>\n",
       "      <th>18</th>\n",
       "      <td>[0.2633, 0.2646, 0.2633, 0.2646, 0.2646, 0.264...</td>\n",
       "    </tr>\n",
       "    <tr>\n",
       "      <th>19</th>\n",
       "      <td>[0.2596, 0.2596, 0.2593, 0.2589, 0.2589, 0.257...</td>\n",
       "    </tr>\n",
       "  </tbody>\n",
       "</table>\n",
       "</div>"
      ],
      "text/plain": [
       "                                              samples\n",
       "0   [0.2615, 0.2615, 0.2614, 0.2614, 0.2614, 0.261...\n",
       "1   [0.2612, 0.2611, 0.2611, 0.2607, 0.2607, 0.260...\n",
       "2   [0.2618, 0.2619, 0.2615, 0.2617, 0.2617, 0.261...\n",
       "3   [0.2611, 0.2609, 0.2609, 0.2606, 0.2606, 0.260...\n",
       "4   [0.2619, 0.262, 0.2617, 0.2619, 0.2619, 0.2619...\n",
       "5   [0.2609, 0.2607, 0.2607, 0.2602, 0.2604, 0.260...\n",
       "6   [0.262, 0.2621, 0.2619, 0.262, 0.262, 0.262, 0...\n",
       "7   [0.2606, 0.2606, 0.2606, 0.2601, 0.2602, 0.26,...\n",
       "8   [0.2621, 0.2625, 0.262, 0.2621, 0.2621, 0.2621...\n",
       "9   [0.2604, 0.2604, 0.2602, 0.26, 0.26, 0.2599, 0...\n",
       "10  [0.2623, 0.2626, 0.2621, 0.2625, 0.2625, 0.262...\n",
       "11  [0.2603, 0.2602, 0.2601, 0.2599, 0.2599, 0.259...\n",
       "12  [0.2625, 0.2629, 0.2625, 0.2629, 0.2629, 0.262...\n",
       "13  [0.2602, 0.2601, 0.26, 0.2595, 0.2595, 0.2593,...\n",
       "14  [0.2626, 0.2633, 0.2626, 0.2633, 0.2633, 0.263...\n",
       "15  [0.26, 0.26, 0.2599, 0.2593, 0.2593, 0.2591, 0...\n",
       "16  [0.2629, 0.2637, 0.2629, 0.2637, 0.2637, 0.263...\n",
       "17  [0.2599, 0.2599, 0.2595, 0.2591, 0.2591, 0.258...\n",
       "18  [0.2633, 0.2646, 0.2633, 0.2646, 0.2646, 0.264...\n",
       "19  [0.2596, 0.2596, 0.2593, 0.2589, 0.2589, 0.257..."
      ]
     },
     "execution_count": 30,
     "metadata": {},
     "output_type": "execute_result"
    }
   ],
   "source": [
    "a_b_df"
   ]
  },
  {
   "cell_type": "code",
   "execution_count": 31,
   "id": "b597fc23-28a1-4e14-bd5b-4d0191bfbf19",
   "metadata": {},
   "outputs": [
    {
     "data": {
      "application/vnd.plotly.v1+json": {
       "config": {
        "plotlyServerURL": "https://plot.ly"
       },
       "data": [
        {
         "mode": "lines",
         "name": "Level 1",
         "type": "scatter",
         "x": [
          0,
          1,
          2,
          3,
          4,
          5,
          6,
          7,
          8,
          9,
          10,
          11,
          12,
          13,
          14,
          15,
          16,
          17,
          18,
          19
         ],
         "y": [
          0.2615,
          0.2615,
          0.2614,
          0.2614,
          0.2614,
          0.2614,
          0.2614,
          0.2617,
          0.2617,
          0.2617
         ]
        },
        {
         "mode": "lines",
         "name": "Level 2",
         "type": "scatter",
         "x": [
          0,
          1,
          2,
          3,
          4,
          5,
          6,
          7,
          8,
          9,
          10,
          11,
          12,
          13,
          14,
          15,
          16,
          17,
          18,
          19
         ],
         "y": [
          0.2612,
          0.2611,
          0.2611,
          0.2607,
          0.2607,
          0.2606,
          0.2606,
          0.2606,
          0.2606,
          0.2606
         ]
        },
        {
         "mode": "lines",
         "name": "Level 3",
         "type": "scatter",
         "x": [
          0,
          1,
          2,
          3,
          4,
          5,
          6,
          7,
          8,
          9,
          10,
          11,
          12,
          13,
          14,
          15,
          16,
          17,
          18,
          19
         ],
         "y": [
          0.2618,
          0.2619,
          0.2615,
          0.2617,
          0.2617,
          0.2617,
          0.2616,
          0.2619,
          0.2618,
          0.2618
         ]
        },
        {
         "mode": "lines",
         "name": "Level 4",
         "type": "scatter",
         "visible": "legendonly",
         "x": [
          0,
          1,
          2,
          3,
          4,
          5,
          6,
          7,
          8,
          9,
          10,
          11,
          12,
          13,
          14,
          15,
          16,
          17,
          18,
          19
         ],
         "y": [
          0.2611,
          0.2609,
          0.2609,
          0.2606,
          0.2606,
          0.2604,
          0.2604,
          0.2604,
          0.2604,
          0.2604
         ]
        },
        {
         "mode": "lines",
         "name": "Level 5",
         "type": "scatter",
         "x": [
          0,
          1,
          2,
          3,
          4,
          5,
          6,
          7,
          8,
          9,
          10,
          11,
          12,
          13,
          14,
          15,
          16,
          17,
          18,
          19
         ],
         "y": [
          0.2619,
          0.262,
          0.2617,
          0.2619,
          0.2619,
          0.2619,
          0.2617,
          0.262,
          0.2619,
          0.2619
         ]
        },
        {
         "mode": "lines",
         "name": "Level 6",
         "type": "scatter",
         "x": [
          0,
          1,
          2,
          3,
          4,
          5,
          6,
          7,
          8,
          9,
          10,
          11,
          12,
          13,
          14,
          15,
          16,
          17,
          18,
          19
         ],
         "y": [
          0.2609,
          0.2607,
          0.2607,
          0.2602,
          0.2604,
          0.2602,
          0.2602,
          0.2602,
          0.2602,
          0.2602
         ]
        },
        {
         "mode": "lines",
         "name": "Level 7",
         "type": "scatter",
         "x": [
          0,
          1,
          2,
          3,
          4,
          5,
          6,
          7,
          8,
          9,
          10,
          11,
          12,
          13,
          14,
          15,
          16,
          17,
          18,
          19
         ],
         "y": [
          0.262,
          0.2621,
          0.2619,
          0.262,
          0.262,
          0.262,
          0.2619,
          0.2621,
          0.2621,
          0.2621
         ]
        },
        {
         "mode": "lines",
         "name": "Level 8",
         "type": "scatter",
         "x": [
          0,
          1,
          2,
          3,
          4,
          5,
          6,
          7,
          8,
          9,
          10,
          11,
          12,
          13,
          14,
          15,
          16,
          17,
          18,
          19
         ],
         "y": [
          0.2606,
          0.2606,
          0.2606,
          0.2601,
          0.2602,
          0.26,
          0.26,
          0.2601,
          0.2601,
          0.26
         ]
        },
        {
         "mode": "lines",
         "name": "Level 9",
         "type": "scatter",
         "x": [
          0,
          1,
          2,
          3,
          4,
          5,
          6,
          7,
          8,
          9,
          10,
          11,
          12,
          13,
          14,
          15,
          16,
          17,
          18,
          19
         ],
         "y": [
          0.2621,
          0.2625,
          0.262,
          0.2621,
          0.2621,
          0.2621,
          0.262,
          0.2625,
          0.2625,
          0.2623
         ]
        },
        {
         "mode": "lines",
         "name": "Level 10",
         "type": "scatter",
         "x": [
          0,
          1,
          2,
          3,
          4,
          5,
          6,
          7,
          8,
          9,
          10,
          11,
          12,
          13,
          14,
          15,
          16,
          17,
          18,
          19
         ],
         "y": [
          0.2604,
          0.2604,
          0.2602,
          0.26,
          0.26,
          0.2599,
          0.2599,
          0.26,
          0.26,
          0.2599
         ]
        },
        {
         "mode": "lines",
         "name": "Level 11",
         "type": "scatter",
         "x": [
          0,
          1,
          2,
          3,
          4,
          5,
          6,
          7,
          8,
          9,
          10,
          11,
          12,
          13,
          14,
          15,
          16,
          17,
          18,
          19
         ],
         "y": [
          0.2623,
          0.2626,
          0.2621,
          0.2625,
          0.2625,
          0.2625,
          0.2621,
          0.2629,
          0.2629,
          0.2625
         ]
        },
        {
         "mode": "lines",
         "name": "Level 12",
         "type": "scatter",
         "x": [
          0,
          1,
          2,
          3,
          4,
          5,
          6,
          7,
          8,
          9,
          10,
          11,
          12,
          13,
          14,
          15,
          16,
          17,
          18,
          19
         ],
         "y": [
          0.2603,
          0.2602,
          0.2601,
          0.2599,
          0.2599,
          0.2595,
          0.2595,
          0.2599,
          0.2599,
          0.2595
         ]
        },
        {
         "mode": "lines",
         "name": "Level 13",
         "type": "scatter",
         "x": [
          0,
          1,
          2,
          3,
          4,
          5,
          6,
          7,
          8,
          9,
          10,
          11,
          12,
          13,
          14,
          15,
          16,
          17,
          18,
          19
         ],
         "y": [
          0.2625,
          0.2629,
          0.2625,
          0.2629,
          0.2629,
          0.2629,
          0.2625,
          0.2633,
          0.2633,
          0.2629
         ]
        },
        {
         "mode": "lines",
         "name": "Level 14",
         "type": "scatter",
         "x": [
          0,
          1,
          2,
          3,
          4,
          5,
          6,
          7,
          8,
          9,
          10,
          11,
          12,
          13,
          14,
          15,
          16,
          17,
          18,
          19
         ],
         "y": [
          0.2602,
          0.2601,
          0.26,
          0.2595,
          0.2595,
          0.2593,
          0.2593,
          0.2595,
          0.2595,
          0.2593
         ]
        },
        {
         "mode": "lines",
         "name": "Level 15",
         "type": "scatter",
         "x": [
          0,
          1,
          2,
          3,
          4,
          5,
          6,
          7,
          8,
          9,
          10,
          11,
          12,
          13,
          14,
          15,
          16,
          17,
          18,
          19
         ],
         "y": [
          0.2626,
          0.2633,
          0.2626,
          0.2633,
          0.2633,
          0.2633,
          0.2629,
          0.2637,
          0.2637,
          0.2633
         ]
        },
        {
         "mode": "lines",
         "name": "Level 16",
         "type": "scatter",
         "x": [
          0,
          1,
          2,
          3,
          4,
          5,
          6,
          7,
          8,
          9,
          10,
          11,
          12,
          13,
          14,
          15,
          16,
          17,
          18,
          19
         ],
         "y": [
          0.26,
          0.26,
          0.2599,
          0.2593,
          0.2593,
          0.2591,
          0.2591,
          0.2593,
          0.2593,
          0.2591
         ]
        },
        {
         "mode": "lines",
         "name": "Level 17",
         "type": "scatter",
         "x": [
          0,
          1,
          2,
          3,
          4,
          5,
          6,
          7,
          8,
          9,
          10,
          11,
          12,
          13,
          14,
          15,
          16,
          17,
          18,
          19
         ],
         "y": [
          0.2629,
          0.2637,
          0.2629,
          0.2637,
          0.2637,
          0.2637,
          0.2633,
          0.2646,
          0.2646,
          0.2637
         ]
        },
        {
         "mode": "lines",
         "name": "Level 18",
         "type": "scatter",
         "x": [
          0,
          1,
          2,
          3,
          4,
          5,
          6,
          7,
          8,
          9,
          10,
          11,
          12,
          13,
          14,
          15,
          16,
          17,
          18,
          19
         ],
         "y": [
          0.2599,
          0.2599,
          0.2595,
          0.2591,
          0.2591,
          0.2588,
          0.2588,
          0.2591,
          0.2591,
          0.2588
         ]
        },
        {
         "mode": "lines",
         "name": "Level 19",
         "type": "scatter",
         "x": [
          0,
          1,
          2,
          3,
          4,
          5,
          6,
          7,
          8,
          9,
          10,
          11,
          12,
          13,
          14,
          15,
          16,
          17,
          18,
          19
         ],
         "y": [
          0.2633,
          0.2646,
          0.2633,
          0.2646,
          0.2646,
          0.2646,
          0.2637,
          0.265,
          0.265,
          0.2646
         ]
        },
        {
         "mode": "lines",
         "name": "Level 20",
         "type": "scatter",
         "x": [
          0,
          1,
          2,
          3,
          4,
          5,
          6,
          7,
          8,
          9,
          10,
          11,
          12,
          13,
          14,
          15,
          16,
          17,
          18,
          19
         ],
         "y": [
          0.2596,
          0.2596,
          0.2593,
          0.2589,
          0.2589,
          0.2579,
          0.2579,
          0.2588,
          0.2588,
          0.2579
         ]
        }
       ],
       "layout": {
        "autosize": true,
        "template": {
         "data": {
          "bar": [
           {
            "error_x": {
             "color": "#2a3f5f"
            },
            "error_y": {
             "color": "#2a3f5f"
            },
            "marker": {
             "line": {
              "color": "#E5ECF6",
              "width": 0.5
             },
             "pattern": {
              "fillmode": "overlay",
              "size": 10,
              "solidity": 0.2
             }
            },
            "type": "bar"
           }
          ],
          "barpolar": [
           {
            "marker": {
             "line": {
              "color": "#E5ECF6",
              "width": 0.5
             },
             "pattern": {
              "fillmode": "overlay",
              "size": 10,
              "solidity": 0.2
             }
            },
            "type": "barpolar"
           }
          ],
          "carpet": [
           {
            "aaxis": {
             "endlinecolor": "#2a3f5f",
             "gridcolor": "white",
             "linecolor": "white",
             "minorgridcolor": "white",
             "startlinecolor": "#2a3f5f"
            },
            "baxis": {
             "endlinecolor": "#2a3f5f",
             "gridcolor": "white",
             "linecolor": "white",
             "minorgridcolor": "white",
             "startlinecolor": "#2a3f5f"
            },
            "type": "carpet"
           }
          ],
          "choropleth": [
           {
            "colorbar": {
             "outlinewidth": 0,
             "ticks": ""
            },
            "type": "choropleth"
           }
          ],
          "contour": [
           {
            "colorbar": {
             "outlinewidth": 0,
             "ticks": ""
            },
            "colorscale": [
             [
              0,
              "#0d0887"
             ],
             [
              0.1111111111111111,
              "#46039f"
             ],
             [
              0.2222222222222222,
              "#7201a8"
             ],
             [
              0.3333333333333333,
              "#9c179e"
             ],
             [
              0.4444444444444444,
              "#bd3786"
             ],
             [
              0.5555555555555556,
              "#d8576b"
             ],
             [
              0.6666666666666666,
              "#ed7953"
             ],
             [
              0.7777777777777778,
              "#fb9f3a"
             ],
             [
              0.8888888888888888,
              "#fdca26"
             ],
             [
              1,
              "#f0f921"
             ]
            ],
            "type": "contour"
           }
          ],
          "contourcarpet": [
           {
            "colorbar": {
             "outlinewidth": 0,
             "ticks": ""
            },
            "type": "contourcarpet"
           }
          ],
          "heatmap": [
           {
            "colorbar": {
             "outlinewidth": 0,
             "ticks": ""
            },
            "colorscale": [
             [
              0,
              "#0d0887"
             ],
             [
              0.1111111111111111,
              "#46039f"
             ],
             [
              0.2222222222222222,
              "#7201a8"
             ],
             [
              0.3333333333333333,
              "#9c179e"
             ],
             [
              0.4444444444444444,
              "#bd3786"
             ],
             [
              0.5555555555555556,
              "#d8576b"
             ],
             [
              0.6666666666666666,
              "#ed7953"
             ],
             [
              0.7777777777777778,
              "#fb9f3a"
             ],
             [
              0.8888888888888888,
              "#fdca26"
             ],
             [
              1,
              "#f0f921"
             ]
            ],
            "type": "heatmap"
           }
          ],
          "heatmapgl": [
           {
            "colorbar": {
             "outlinewidth": 0,
             "ticks": ""
            },
            "colorscale": [
             [
              0,
              "#0d0887"
             ],
             [
              0.1111111111111111,
              "#46039f"
             ],
             [
              0.2222222222222222,
              "#7201a8"
             ],
             [
              0.3333333333333333,
              "#9c179e"
             ],
             [
              0.4444444444444444,
              "#bd3786"
             ],
             [
              0.5555555555555556,
              "#d8576b"
             ],
             [
              0.6666666666666666,
              "#ed7953"
             ],
             [
              0.7777777777777778,
              "#fb9f3a"
             ],
             [
              0.8888888888888888,
              "#fdca26"
             ],
             [
              1,
              "#f0f921"
             ]
            ],
            "type": "heatmapgl"
           }
          ],
          "histogram": [
           {
            "marker": {
             "pattern": {
              "fillmode": "overlay",
              "size": 10,
              "solidity": 0.2
             }
            },
            "type": "histogram"
           }
          ],
          "histogram2d": [
           {
            "colorbar": {
             "outlinewidth": 0,
             "ticks": ""
            },
            "colorscale": [
             [
              0,
              "#0d0887"
             ],
             [
              0.1111111111111111,
              "#46039f"
             ],
             [
              0.2222222222222222,
              "#7201a8"
             ],
             [
              0.3333333333333333,
              "#9c179e"
             ],
             [
              0.4444444444444444,
              "#bd3786"
             ],
             [
              0.5555555555555556,
              "#d8576b"
             ],
             [
              0.6666666666666666,
              "#ed7953"
             ],
             [
              0.7777777777777778,
              "#fb9f3a"
             ],
             [
              0.8888888888888888,
              "#fdca26"
             ],
             [
              1,
              "#f0f921"
             ]
            ],
            "type": "histogram2d"
           }
          ],
          "histogram2dcontour": [
           {
            "colorbar": {
             "outlinewidth": 0,
             "ticks": ""
            },
            "colorscale": [
             [
              0,
              "#0d0887"
             ],
             [
              0.1111111111111111,
              "#46039f"
             ],
             [
              0.2222222222222222,
              "#7201a8"
             ],
             [
              0.3333333333333333,
              "#9c179e"
             ],
             [
              0.4444444444444444,
              "#bd3786"
             ],
             [
              0.5555555555555556,
              "#d8576b"
             ],
             [
              0.6666666666666666,
              "#ed7953"
             ],
             [
              0.7777777777777778,
              "#fb9f3a"
             ],
             [
              0.8888888888888888,
              "#fdca26"
             ],
             [
              1,
              "#f0f921"
             ]
            ],
            "type": "histogram2dcontour"
           }
          ],
          "mesh3d": [
           {
            "colorbar": {
             "outlinewidth": 0,
             "ticks": ""
            },
            "type": "mesh3d"
           }
          ],
          "parcoords": [
           {
            "line": {
             "colorbar": {
              "outlinewidth": 0,
              "ticks": ""
             }
            },
            "type": "parcoords"
           }
          ],
          "pie": [
           {
            "automargin": true,
            "type": "pie"
           }
          ],
          "scatter": [
           {
            "fillpattern": {
             "fillmode": "overlay",
             "size": 10,
             "solidity": 0.2
            },
            "type": "scatter"
           }
          ],
          "scatter3d": [
           {
            "line": {
             "colorbar": {
              "outlinewidth": 0,
              "ticks": ""
             }
            },
            "marker": {
             "colorbar": {
              "outlinewidth": 0,
              "ticks": ""
             }
            },
            "type": "scatter3d"
           }
          ],
          "scattercarpet": [
           {
            "marker": {
             "colorbar": {
              "outlinewidth": 0,
              "ticks": ""
             }
            },
            "type": "scattercarpet"
           }
          ],
          "scattergeo": [
           {
            "marker": {
             "colorbar": {
              "outlinewidth": 0,
              "ticks": ""
             }
            },
            "type": "scattergeo"
           }
          ],
          "scattergl": [
           {
            "marker": {
             "colorbar": {
              "outlinewidth": 0,
              "ticks": ""
             }
            },
            "type": "scattergl"
           }
          ],
          "scattermapbox": [
           {
            "marker": {
             "colorbar": {
              "outlinewidth": 0,
              "ticks": ""
             }
            },
            "type": "scattermapbox"
           }
          ],
          "scatterpolar": [
           {
            "marker": {
             "colorbar": {
              "outlinewidth": 0,
              "ticks": ""
             }
            },
            "type": "scatterpolar"
           }
          ],
          "scatterpolargl": [
           {
            "marker": {
             "colorbar": {
              "outlinewidth": 0,
              "ticks": ""
             }
            },
            "type": "scatterpolargl"
           }
          ],
          "scatterternary": [
           {
            "marker": {
             "colorbar": {
              "outlinewidth": 0,
              "ticks": ""
             }
            },
            "type": "scatterternary"
           }
          ],
          "surface": [
           {
            "colorbar": {
             "outlinewidth": 0,
             "ticks": ""
            },
            "colorscale": [
             [
              0,
              "#0d0887"
             ],
             [
              0.1111111111111111,
              "#46039f"
             ],
             [
              0.2222222222222222,
              "#7201a8"
             ],
             [
              0.3333333333333333,
              "#9c179e"
             ],
             [
              0.4444444444444444,
              "#bd3786"
             ],
             [
              0.5555555555555556,
              "#d8576b"
             ],
             [
              0.6666666666666666,
              "#ed7953"
             ],
             [
              0.7777777777777778,
              "#fb9f3a"
             ],
             [
              0.8888888888888888,
              "#fdca26"
             ],
             [
              1,
              "#f0f921"
             ]
            ],
            "type": "surface"
           }
          ],
          "table": [
           {
            "cells": {
             "fill": {
              "color": "#EBF0F8"
             },
             "line": {
              "color": "white"
             }
            },
            "header": {
             "fill": {
              "color": "#C8D4E3"
             },
             "line": {
              "color": "white"
             }
            },
            "type": "table"
           }
          ]
         },
         "layout": {
          "annotationdefaults": {
           "arrowcolor": "#2a3f5f",
           "arrowhead": 0,
           "arrowwidth": 1
          },
          "autotypenumbers": "strict",
          "coloraxis": {
           "colorbar": {
            "outlinewidth": 0,
            "ticks": ""
           }
          },
          "colorscale": {
           "diverging": [
            [
             0,
             "#8e0152"
            ],
            [
             0.1,
             "#c51b7d"
            ],
            [
             0.2,
             "#de77ae"
            ],
            [
             0.3,
             "#f1b6da"
            ],
            [
             0.4,
             "#fde0ef"
            ],
            [
             0.5,
             "#f7f7f7"
            ],
            [
             0.6,
             "#e6f5d0"
            ],
            [
             0.7,
             "#b8e186"
            ],
            [
             0.8,
             "#7fbc41"
            ],
            [
             0.9,
             "#4d9221"
            ],
            [
             1,
             "#276419"
            ]
           ],
           "sequential": [
            [
             0,
             "#0d0887"
            ],
            [
             0.1111111111111111,
             "#46039f"
            ],
            [
             0.2222222222222222,
             "#7201a8"
            ],
            [
             0.3333333333333333,
             "#9c179e"
            ],
            [
             0.4444444444444444,
             "#bd3786"
            ],
            [
             0.5555555555555556,
             "#d8576b"
            ],
            [
             0.6666666666666666,
             "#ed7953"
            ],
            [
             0.7777777777777778,
             "#fb9f3a"
            ],
            [
             0.8888888888888888,
             "#fdca26"
            ],
            [
             1,
             "#f0f921"
            ]
           ],
           "sequentialminus": [
            [
             0,
             "#0d0887"
            ],
            [
             0.1111111111111111,
             "#46039f"
            ],
            [
             0.2222222222222222,
             "#7201a8"
            ],
            [
             0.3333333333333333,
             "#9c179e"
            ],
            [
             0.4444444444444444,
             "#bd3786"
            ],
            [
             0.5555555555555556,
             "#d8576b"
            ],
            [
             0.6666666666666666,
             "#ed7953"
            ],
            [
             0.7777777777777778,
             "#fb9f3a"
            ],
            [
             0.8888888888888888,
             "#fdca26"
            ],
            [
             1,
             "#f0f921"
            ]
           ]
          },
          "colorway": [
           "#636efa",
           "#EF553B",
           "#00cc96",
           "#ab63fa",
           "#FFA15A",
           "#19d3f3",
           "#FF6692",
           "#B6E880",
           "#FF97FF",
           "#FECB52"
          ],
          "font": {
           "color": "#2a3f5f"
          },
          "geo": {
           "bgcolor": "white",
           "lakecolor": "white",
           "landcolor": "#E5ECF6",
           "showlakes": true,
           "showland": true,
           "subunitcolor": "white"
          },
          "hoverlabel": {
           "align": "left"
          },
          "hovermode": "closest",
          "mapbox": {
           "style": "light"
          },
          "paper_bgcolor": "white",
          "plot_bgcolor": "#E5ECF6",
          "polar": {
           "angularaxis": {
            "gridcolor": "white",
            "linecolor": "white",
            "ticks": ""
           },
           "bgcolor": "#E5ECF6",
           "radialaxis": {
            "gridcolor": "white",
            "linecolor": "white",
            "ticks": ""
           }
          },
          "scene": {
           "xaxis": {
            "backgroundcolor": "#E5ECF6",
            "gridcolor": "white",
            "gridwidth": 2,
            "linecolor": "white",
            "showbackground": true,
            "ticks": "",
            "zerolinecolor": "white"
           },
           "yaxis": {
            "backgroundcolor": "#E5ECF6",
            "gridcolor": "white",
            "gridwidth": 2,
            "linecolor": "white",
            "showbackground": true,
            "ticks": "",
            "zerolinecolor": "white"
           },
           "zaxis": {
            "backgroundcolor": "#E5ECF6",
            "gridcolor": "white",
            "gridwidth": 2,
            "linecolor": "white",
            "showbackground": true,
            "ticks": "",
            "zerolinecolor": "white"
           }
          },
          "shapedefaults": {
           "line": {
            "color": "#2a3f5f"
           }
          },
          "ternary": {
           "aaxis": {
            "gridcolor": "white",
            "linecolor": "white",
            "ticks": ""
           },
           "baxis": {
            "gridcolor": "white",
            "linecolor": "white",
            "ticks": ""
           },
           "bgcolor": "#E5ECF6",
           "caxis": {
            "gridcolor": "white",
            "linecolor": "white",
            "ticks": ""
           }
          },
          "title": {
           "x": 0.05
          },
          "xaxis": {
           "automargin": true,
           "gridcolor": "white",
           "linecolor": "white",
           "ticks": "",
           "title": {
            "standoff": 15
           },
           "zerolinecolor": "white",
           "zerolinewidth": 2
          },
          "yaxis": {
           "automargin": true,
           "gridcolor": "white",
           "linecolor": "white",
           "ticks": "",
           "title": {
            "standoff": 15
           },
           "zerolinecolor": "white",
           "zerolinewidth": 2
          }
         }
        },
        "title": {
         "text": "Price levels for the limit order book"
        },
        "xaxis": {
         "autorange": true,
         "range": [
          0,
          9
         ],
         "title": {
          "text": "Timestamp"
         },
         "type": "linear"
        },
        "yaxis": {
         "autorange": true,
         "range": [
          0.2575055555555556,
          0.26539444444444443
         ],
         "title": {
          "text": "Price"
         },
         "type": "linear"
        }
       }
      },
      "image/png": "[encoded data removed]",
      "text/html": [
       "<div>                            <div id=\"07d625d8-7cae-474e-ba9a-98f0a6e7adfc\" class=\"plotly-graph-div\" style=\"height:525px; width:100%;\"></div>            <script type=\"text/javascript\">                require([\"plotly\"], function(Plotly) {                    window.PLOTLYENV=window.PLOTLYENV || {};                                    if (document.getElementById(\"07d625d8-7cae-474e-ba9a-98f0a6e7adfc\")) {                    Plotly.newPlot(                        \"07d625d8-7cae-474e-ba9a-98f0a6e7adfc\",                        [{\"mode\":\"lines\",\"name\":\"Level 1\",\"x\":[0,1,2,3,4,5,6,7,8,9,10,11,12,13,14,15,16,17,18,19],\"y\":[0.2615,0.2615,0.2614,0.2614,0.2614,0.2614,0.2614,0.2617,0.2617,0.2617],\"type\":\"scatter\"},{\"mode\":\"lines\",\"name\":\"Level 2\",\"x\":[0,1,2,3,4,5,6,7,8,9,10,11,12,13,14,15,16,17,18,19],\"y\":[0.2612,0.2611,0.2611,0.2607,0.2607,0.2606,0.2606,0.2606,0.2606,0.2606],\"type\":\"scatter\"},{\"mode\":\"lines\",\"name\":\"Level 3\",\"x\":[0,1,2,3,4,5,6,7,8,9,10,11,12,13,14,15,16,17,18,19],\"y\":[0.2618,0.2619,0.2615,0.2617,0.2617,0.2617,0.2616,0.2619,0.2618,0.2618],\"type\":\"scatter\"},{\"mode\":\"lines\",\"name\":\"Level 4\",\"x\":[0,1,2,3,4,5,6,7,8,9,10,11,12,13,14,15,16,17,18,19],\"y\":[0.2611,0.2609,0.2609,0.2606,0.2606,0.2604,0.2604,0.2604,0.2604,0.2604],\"type\":\"scatter\"},{\"mode\":\"lines\",\"name\":\"Level 5\",\"x\":[0,1,2,3,4,5,6,7,8,9,10,11,12,13,14,15,16,17,18,19],\"y\":[0.2619,0.262,0.2617,0.2619,0.2619,0.2619,0.2617,0.262,0.2619,0.2619],\"type\":\"scatter\"},{\"mode\":\"lines\",\"name\":\"Level 6\",\"x\":[0,1,2,3,4,5,6,7,8,9,10,11,12,13,14,15,16,17,18,19],\"y\":[0.2609,0.2607,0.2607,0.2602,0.2604,0.2602,0.2602,0.2602,0.2602,0.2602],\"type\":\"scatter\"},{\"mode\":\"lines\",\"name\":\"Level 7\",\"x\":[0,1,2,3,4,5,6,7,8,9,10,11,12,13,14,15,16,17,18,19],\"y\":[0.262,0.2621,0.2619,0.262,0.262,0.262,0.2619,0.2621,0.2621,0.2621],\"type\":\"scatter\"},{\"mode\":\"lines\",\"name\":\"Level 8\",\"x\":[0,1,2,3,4,5,6,7,8,9,10,11,12,13,14,15,16,17,18,19],\"y\":[0.2606,0.2606,0.2606,0.2601,0.2602,0.26,0.26,0.2601,0.2601,0.26],\"type\":\"scatter\"},{\"mode\":\"lines\",\"name\":\"Level 9\",\"x\":[0,1,2,3,4,5,6,7,8,9,10,11,12,13,14,15,16,17,18,19],\"y\":[0.2621,0.2625,0.262,0.2621,0.2621,0.2621,0.262,0.2625,0.2625,0.2623],\"type\":\"scatter\"},{\"mode\":\"lines\",\"name\":\"Level 10\",\"x\":[0,1,2,3,4,5,6,7,8,9,10,11,12,13,14,15,16,17,18,19],\"y\":[0.2604,0.2604,0.2602,0.26,0.26,0.2599,0.2599,0.26,0.26,0.2599],\"type\":\"scatter\"},{\"mode\":\"lines\",\"name\":\"Level 11\",\"x\":[0,1,2,3,4,5,6,7,8,9,10,11,12,13,14,15,16,17,18,19],\"y\":[0.2623,0.2626,0.2621,0.2625,0.2625,0.2625,0.2621,0.2629,0.2629,0.2625],\"type\":\"scatter\"},{\"mode\":\"lines\",\"name\":\"Level 12\",\"x\":[0,1,2,3,4,5,6,7,8,9,10,11,12,13,14,15,16,17,18,19],\"y\":[0.2603,0.2602,0.2601,0.2599,0.2599,0.2595,0.2595,0.2599,0.2599,0.2595],\"type\":\"scatter\"},{\"mode\":\"lines\",\"name\":\"Level 13\",\"x\":[0,1,2,3,4,5,6,7,8,9,10,11,12,13,14,15,16,17,18,19],\"y\":[0.2625,0.2629,0.2625,0.2629,0.2629,0.2629,0.2625,0.2633,0.2633,0.2629],\"type\":\"scatter\"},{\"mode\":\"lines\",\"name\":\"Level 14\",\"x\":[0,1,2,3,4,5,6,7,8,9,10,11,12,13,14,15,16,17,18,19],\"y\":[0.2602,0.2601,0.26,0.2595,0.2595,0.2593,0.2593,0.2595,0.2595,0.2593],\"type\":\"scatter\"},{\"mode\":\"lines\",\"name\":\"Level 15\",\"x\":[0,1,2,3,4,5,6,7,8,9,10,11,12,13,14,15,16,17,18,19],\"y\":[0.2626,0.2633,0.2626,0.2633,0.2633,0.2633,0.2629,0.2637,0.2637,0.2633],\"type\":\"scatter\"},{\"mode\":\"lines\",\"name\":\"Level 16\",\"x\":[0,1,2,3,4,5,6,7,8,9,10,11,12,13,14,15,16,17,18,19],\"y\":[0.26,0.26,0.2599,0.2593,0.2593,0.2591,0.2591,0.2593,0.2593,0.2591],\"type\":\"scatter\"},{\"mode\":\"lines\",\"name\":\"Level 17\",\"x\":[0,1,2,3,4,5,6,7,8,9,10,11,12,13,14,15,16,17,18,19],\"y\":[0.2629,0.2637,0.2629,0.2637,0.2637,0.2637,0.2633,0.2646,0.2646,0.2637],\"type\":\"scatter\"},{\"mode\":\"lines\",\"name\":\"Level 18\",\"x\":[0,1,2,3,4,5,6,7,8,9,10,11,12,13,14,15,16,17,18,19],\"y\":[0.2599,0.2599,0.2595,0.2591,0.2591,0.2588,0.2588,0.2591,0.2591,0.2588],\"type\":\"scatter\"},{\"mode\":\"lines\",\"name\":\"Level 19\",\"x\":[0,1,2,3,4,5,6,7,8,9,10,11,12,13,14,15,16,17,18,19],\"y\":[0.2633,0.2646,0.2633,0.2646,0.2646,0.2646,0.2637,0.265,0.265,0.2646],\"type\":\"scatter\"},{\"mode\":\"lines\",\"name\":\"Level 20\",\"x\":[0,1,2,3,4,5,6,7,8,9,10,11,12,13,14,15,16,17,18,19],\"y\":[0.2596,0.2596,0.2593,0.2589,0.2589,0.2579,0.2579,0.2588,0.2588,0.2579],\"type\":\"scatter\"}],                        {\"template\":{\"data\":{\"histogram2dcontour\":[{\"type\":\"histogram2dcontour\",\"colorbar\":{\"outlinewidth\":0,\"ticks\":\"\"},\"colorscale\":[[0.0,\"#0d0887\"],[0.1111111111111111,\"#46039f\"],[0.2222222222222222,\"#7201a8\"],[0.3333333333333333,\"#9c179e\"],[0.4444444444444444,\"#bd3786\"],[0.5555555555555556,\"#d8576b\"],[0.6666666666666666,\"#ed7953\"],[0.7777777777777778,\"#fb9f3a\"],[0.8888888888888888,\"#fdca26\"],[1.0,\"#f0f921\"]]}],\"choropleth\":[{\"type\":\"choropleth\",\"colorbar\":{\"outlinewidth\":0,\"ticks\":\"\"}}],\"histogram2d\":[{\"type\":\"histogram2d\",\"colorbar\":{\"outlinewidth\":0,\"ticks\":\"\"},\"colorscale\":[[0.0,\"#0d0887\"],[0.1111111111111111,\"#46039f\"],[0.2222222222222222,\"#7201a8\"],[0.3333333333333333,\"#9c179e\"],[0.4444444444444444,\"#bd3786\"],[0.5555555555555556,\"#d8576b\"],[0.6666666666666666,\"#ed7953\"],[0.7777777777777778,\"#fb9f3a\"],[0.8888888888888888,\"#fdca26\"],[1.0,\"#f0f921\"]]}],\"heatmap\":[{\"type\":\"heatmap\",\"colorbar\":{\"outlinewidth\":0,\"ticks\":\"\"},\"colorscale\":[[0.0,\"#0d0887\"],[0.1111111111111111,\"#46039f\"],[0.2222222222222222,\"#7201a8\"],[0.3333333333333333,\"#9c179e\"],[0.4444444444444444,\"#bd3786\"],[0.5555555555555556,\"#d8576b\"],[0.6666666666666666,\"#ed7953\"],[0.7777777777777778,\"#fb9f3a\"],[0.8888888888888888,\"#fdca26\"],[1.0,\"#f0f921\"]]}],\"heatmapgl\":[{\"type\":\"heatmapgl\",\"colorbar\":{\"outlinewidth\":0,\"ticks\":\"\"},\"colorscale\":[[0.0,\"#0d0887\"],[0.1111111111111111,\"#46039f\"],[0.2222222222222222,\"#7201a8\"],[0.3333333333333333,\"#9c179e\"],[0.4444444444444444,\"#bd3786\"],[0.5555555555555556,\"#d8576b\"],[0.6666666666666666,\"#ed7953\"],[0.7777777777777778,\"#fb9f3a\"],[0.8888888888888888,\"#fdca26\"],[1.0,\"#f0f921\"]]}],\"contourcarpet\":[{\"type\":\"contourcarpet\",\"colorbar\":{\"outlinewidth\":0,\"ticks\":\"\"}}],\"contour\":[{\"type\":\"contour\",\"colorbar\":{\"outlinewidth\":0,\"ticks\":\"\"},\"colorscale\":[[0.0,\"#0d0887\"],[0.1111111111111111,\"#46039f\"],[0.2222222222222222,\"#7201a8\"],[0.3333333333333333,\"#9c179e\"],[0.4444444444444444,\"#bd3786\"],[0.5555555555555556,\"#d8576b\"],[0.6666666666666666,\"#ed7953\"],[0.7777777777777778,\"#fb9f3a\"],[0.8888888888888888,\"#fdca26\"],[1.0,\"#f0f921\"]]}],\"surface\":[{\"type\":\"surface\",\"colorbar\":{\"outlinewidth\":0,\"ticks\":\"\"},\"colorscale\":[[0.0,\"#0d0887\"],[0.1111111111111111,\"#46039f\"],[0.2222222222222222,\"#7201a8\"],[0.3333333333333333,\"#9c179e\"],[0.4444444444444444,\"#bd3786\"],[0.5555555555555556,\"#d8576b\"],[0.6666666666666666,\"#ed7953\"],[0.7777777777777778,\"#fb9f3a\"],[0.8888888888888888,\"#fdca26\"],[1.0,\"#f0f921\"]]}],\"mesh3d\":[{\"type\":\"mesh3d\",\"colorbar\":{\"outlinewidth\":0,\"ticks\":\"\"}}],\"scatter\":[{\"fillpattern\":{\"fillmode\":\"overlay\",\"size\":10,\"solidity\":0.2},\"type\":\"scatter\"}],\"parcoords\":[{\"type\":\"parcoords\",\"line\":{\"colorbar\":{\"outlinewidth\":0,\"ticks\":\"\"}}}],\"scatterpolargl\":[{\"type\":\"scatterpolargl\",\"marker\":{\"colorbar\":{\"outlinewidth\":0,\"ticks\":\"\"}}}],\"bar\":[{\"error_x\":{\"color\":\"#2a3f5f\"},\"error_y\":{\"color\":\"#2a3f5f\"},\"marker\":{\"line\":{\"color\":\"#E5ECF6\",\"width\":0.5},\"pattern\":{\"fillmode\":\"overlay\",\"size\":10,\"solidity\":0.2}},\"type\":\"bar\"}],\"scattergeo\":[{\"type\":\"scattergeo\",\"marker\":{\"colorbar\":{\"outlinewidth\":0,\"ticks\":\"\"}}}],\"scatterpolar\":[{\"type\":\"scatterpolar\",\"marker\":{\"colorbar\":{\"outlinewidth\":0,\"ticks\":\"\"}}}],\"histogram\":[{\"marker\":{\"pattern\":{\"fillmode\":\"overlay\",\"size\":10,\"solidity\":0.2}},\"type\":\"histogram\"}],\"scattergl\":[{\"type\":\"scattergl\",\"marker\":{\"colorbar\":{\"outlinewidth\":0,\"ticks\":\"\"}}}],\"scatter3d\":[{\"type\":\"scatter3d\",\"line\":{\"colorbar\":{\"outlinewidth\":0,\"ticks\":\"\"}},\"marker\":{\"colorbar\":{\"outlinewidth\":0,\"ticks\":\"\"}}}],\"scattermapbox\":[{\"type\":\"scattermapbox\",\"marker\":{\"colorbar\":{\"outlinewidth\":0,\"ticks\":\"\"}}}],\"scatterternary\":[{\"type\":\"scatterternary\",\"marker\":{\"colorbar\":{\"outlinewidth\":0,\"ticks\":\"\"}}}],\"scattercarpet\":[{\"type\":\"scattercarpet\",\"marker\":{\"colorbar\":{\"outlinewidth\":0,\"ticks\":\"\"}}}],\"carpet\":[{\"aaxis\":{\"endlinecolor\":\"#2a3f5f\",\"gridcolor\":\"white\",\"linecolor\":\"white\",\"minorgridcolor\":\"white\",\"startlinecolor\":\"#2a3f5f\"},\"baxis\":{\"endlinecolor\":\"#2a3f5f\",\"gridcolor\":\"white\",\"linecolor\":\"white\",\"minorgridcolor\":\"white\",\"startlinecolor\":\"#2a3f5f\"},\"type\":\"carpet\"}],\"table\":[{\"cells\":{\"fill\":{\"color\":\"#EBF0F8\"},\"line\":{\"color\":\"white\"}},\"header\":{\"fill\":{\"color\":\"#C8D4E3\"},\"line\":{\"color\":\"white\"}},\"type\":\"table\"}],\"barpolar\":[{\"marker\":{\"line\":{\"color\":\"#E5ECF6\",\"width\":0.5},\"pattern\":{\"fillmode\":\"overlay\",\"size\":10,\"solidity\":0.2}},\"type\":\"barpolar\"}],\"pie\":[{\"automargin\":true,\"type\":\"pie\"}]},\"layout\":{\"autotypenumbers\":\"strict\",\"colorway\":[\"#636efa\",\"#EF553B\",\"#00cc96\",\"#ab63fa\",\"#FFA15A\",\"#19d3f3\",\"#FF6692\",\"#B6E880\",\"#FF97FF\",\"#FECB52\"],\"font\":{\"color\":\"#2a3f5f\"},\"hovermode\":\"closest\",\"hoverlabel\":{\"align\":\"left\"},\"paper_bgcolor\":\"white\",\"plot_bgcolor\":\"#E5ECF6\",\"polar\":{\"bgcolor\":\"#E5ECF6\",\"angularaxis\":{\"gridcolor\":\"white\",\"linecolor\":\"white\",\"ticks\":\"\"},\"radialaxis\":{\"gridcolor\":\"white\",\"linecolor\":\"white\",\"ticks\":\"\"}},\"ternary\":{\"bgcolor\":\"#E5ECF6\",\"aaxis\":{\"gridcolor\":\"white\",\"linecolor\":\"white\",\"ticks\":\"\"},\"baxis\":{\"gridcolor\":\"white\",\"linecolor\":\"white\",\"ticks\":\"\"},\"caxis\":{\"gridcolor\":\"white\",\"linecolor\":\"white\",\"ticks\":\"\"}},\"coloraxis\":{\"colorbar\":{\"outlinewidth\":0,\"ticks\":\"\"}},\"colorscale\":{\"sequential\":[[0.0,\"#0d0887\"],[0.1111111111111111,\"#46039f\"],[0.2222222222222222,\"#7201a8\"],[0.3333333333333333,\"#9c179e\"],[0.4444444444444444,\"#bd3786\"],[0.5555555555555556,\"#d8576b\"],[0.6666666666666666,\"#ed7953\"],[0.7777777777777778,\"#fb9f3a\"],[0.8888888888888888,\"#fdca26\"],[1.0,\"#f0f921\"]],\"sequentialminus\":[[0.0,\"#0d0887\"],[0.1111111111111111,\"#46039f\"],[0.2222222222222222,\"#7201a8\"],[0.3333333333333333,\"#9c179e\"],[0.4444444444444444,\"#bd3786\"],[0.5555555555555556,\"#d8576b\"],[0.6666666666666666,\"#ed7953\"],[0.7777777777777778,\"#fb9f3a\"],[0.8888888888888888,\"#fdca26\"],[1.0,\"#f0f921\"]],\"diverging\":[[0,\"#8e0152\"],[0.1,\"#c51b7d\"],[0.2,\"#de77ae\"],[0.3,\"#f1b6da\"],[0.4,\"#fde0ef\"],[0.5,\"#f7f7f7\"],[0.6,\"#e6f5d0\"],[0.7,\"#b8e186\"],[0.8,\"#7fbc41\"],[0.9,\"#4d9221\"],[1,\"#276419\"]]},\"xaxis\":{\"gridcolor\":\"white\",\"linecolor\":\"white\",\"ticks\":\"\",\"title\":{\"standoff\":15},\"zerolinecolor\":\"white\",\"automargin\":true,\"zerolinewidth\":2},\"yaxis\":{\"gridcolor\":\"white\",\"linecolor\":\"white\",\"ticks\":\"\",\"title\":{\"standoff\":15},\"zerolinecolor\":\"white\",\"automargin\":true,\"zerolinewidth\":2},\"scene\":{\"xaxis\":{\"backgroundcolor\":\"#E5ECF6\",\"gridcolor\":\"white\",\"linecolor\":\"white\",\"showbackground\":true,\"ticks\":\"\",\"zerolinecolor\":\"white\",\"gridwidth\":2},\"yaxis\":{\"backgroundcolor\":\"#E5ECF6\",\"gridcolor\":\"white\",\"linecolor\":\"white\",\"showbackground\":true,\"ticks\":\"\",\"zerolinecolor\":\"white\",\"gridwidth\":2},\"zaxis\":{\"backgroundcolor\":\"#E5ECF6\",\"gridcolor\":\"white\",\"linecolor\":\"white\",\"showbackground\":true,\"ticks\":\"\",\"zerolinecolor\":\"white\",\"gridwidth\":2}},\"shapedefaults\":{\"line\":{\"color\":\"#2a3f5f\"}},\"annotationdefaults\":{\"arrowcolor\":\"#2a3f5f\",\"arrowhead\":0,\"arrowwidth\":1},\"geo\":{\"bgcolor\":\"white\",\"landcolor\":\"#E5ECF6\",\"subunitcolor\":\"white\",\"showland\":true,\"showlakes\":true,\"lakecolor\":\"white\"},\"title\":{\"x\":0.05},\"mapbox\":{\"style\":\"light\"}}},\"title\":{\"text\":\"Price levels for the limit order book\"},\"xaxis\":{\"title\":{\"text\":\"Timestamp\"}},\"yaxis\":{\"title\":{\"text\":\"Price\"}}},                        {\"responsive\": true}                    ).then(function(){\n",
       "                            \n",
       "var gd = document.getElementById('07d625d8-7cae-474e-ba9a-98f0a6e7adfc');\n",
       "var x = new MutationObserver(function (mutations, observer) {{\n",
       "        var display = window.getComputedStyle(gd).display;\n",
       "        if (!display || display === 'none') {{\n",
       "            console.log([gd, 'removed!']);\n",
       "            Plotly.purge(gd);\n",
       "            observer.disconnect();\n",
       "        }}\n",
       "}});\n",
       "\n",
       "// Listen for the removal of the full notebook cells\n",
       "var notebookContainer = gd.closest('#notebook-container');\n",
       "if (notebookContainer) {{\n",
       "    x.observe(notebookContainer, {childList: true});\n",
       "}}\n",
       "\n",
       "// Listen for the clearing of the current output cell\n",
       "var outputEl = gd.closest('.output');\n",
       "if (outputEl) {{\n",
       "    x.observe(outputEl, {childList: true});\n",
       "}}\n",
       "\n",
       "                        })                };                });            </script>        </div>"
      ]
     },
     "metadata": {},
     "output_type": "display_data"
    }
   ],
   "source": [
    "import plotly.graph_objects as go\n",
    "from plotly.subplots import make_subplots\n",
    "\n",
    "fig = go.Figure()\n",
    "\n",
    "for col_index, col_values in enumerate(a_b_df[\"samples\"].transpose()):\n",
    "    fig.add_trace(go.Scatter(x=a_b_df.index, y=col_values, mode='lines', name=f'Level {col_index + 1}'))\n",
    "\n",
    "fig.update_layout(title='Price levels for the limit order book', xaxis_title='Timestamp', yaxis_title='Price')\n",
    "fig.show()\n"
   ]
  },
  {
   "cell_type": "code",
   "execution_count": 39,
   "id": "c59cae0e-d754-4c5c-adf4-cb2c286045cf",
   "metadata": {},
   "outputs": [
    {
     "data": {
      "application/vnd.plotly.v1+json": {
       "config": {
        "plotlyServerURL": "https://plot.ly"
       },
       "data": [
        {
         "marker": {
          "color": "rgba(0, 0, 255, 0.5)"
         },
         "name": "Level 1",
         "orientation": "h",
         "type": "bar",
         "x": [
          0.0035000001080334187,
          0.002099999925121665,
          0.0012000000569969416,
          0.0031999999191612005,
          0.0031999999191612005,
          0.0031999999191612005,
          9.999999747378752e-05,
          0.009200000204145908,
          0.008200000040233135,
          0.008200000040233135
         ],
         "y": [
          1,
          3,
          5,
          7,
          9,
          11,
          13,
          15,
          17,
          19,
          21,
          23,
          25,
          27,
          29,
          31,
          33,
          35,
          37,
          39
         ]
        },
        {
         "marker": {
          "color": "rgba(0, 0, 255, 0.6)"
         },
         "name": "Level 2",
         "orientation": "h",
         "type": "bar",
         "x": [
          0.0032999999821186066,
          0.0032999999821186066,
          0.0032999999821186066,
          0.0032999999821186066,
          0.0032999999821186066,
          0.002099999925121665,
          0.004100000020116568,
          0.004000000189989805,
          0.004000000189989805,
          0.004999999888241291
         ],
         "y": [
          1,
          3,
          5,
          7,
          9,
          11,
          13,
          15,
          17,
          19,
          21,
          23,
          25,
          27,
          29,
          31,
          33,
          35,
          37,
          39
         ]
        },
        {
         "marker": {
          "color": "rgba(0, 0, 255, 0.7)"
         },
         "name": "Level 3",
         "orientation": "h",
         "type": "bar",
         "x": [
          0.0020000000949949026,
          0.0015999999595806003,
          0.0020000000949949026,
          0.009399999864399433,
          0.009399999864399433,
          0.005799999926239252,
          0.0026000000070780516,
          0.008500000461935997,
          0.0010999999940395355,
          0.0010999999940395355
         ],
         "y": [
          1,
          3,
          5,
          7,
          9,
          11,
          13,
          15,
          17,
          19,
          21,
          23,
          25,
          27,
          29,
          31,
          33,
          35,
          37,
          39
         ]
        },
        {
         "marker": {
          "color": "rgba(0, 0, 255, 0.8)"
         },
         "name": "Level 4",
         "orientation": "h",
         "type": "bar",
         "x": [
          0.006800000090152025,
          0.006800000090152025,
          0.006800000090152025,
          0.006800000090152025,
          0.006800000090152025,
          0.00430000014603138,
          0.0032999999821186066,
          0.0017000000225380063,
          0.0017000000225380063,
          0.004000000189989805
         ],
         "y": [
          1,
          3,
          5,
          7,
          9,
          11,
          13,
          15,
          17,
          19,
          21,
          23,
          25,
          27,
          29,
          31,
          33,
          35,
          37,
          39
         ]
        },
        {
         "marker": {
          "color": "rgba(0, 0, 255, 0.9)"
         },
         "name": "Level 5",
         "orientation": "h",
         "type": "bar",
         "x": [
          0.0015999999595806003,
          0.00139999995008111,
          0.003599999938160181,
          0.008500000461935997,
          0.008500000461935997,
          0.008500000461935997,
          0.008200000040233135,
          0.00139999995008111,
          0.008500000461935997,
          0.008500000461935997
         ],
         "y": [
          1,
          3,
          5,
          7,
          9,
          11,
          13,
          15,
          17,
          19,
          21,
          23,
          25,
          27,
          29,
          31,
          33,
          35,
          37,
          39
         ]
        },
        {
         "marker": {
          "color": "rgba(0, 0, 255, 1.0)"
         },
         "name": "Level 6",
         "orientation": "h",
         "type": "bar",
         "x": [
          0.007899999618530273,
          0.007899999618530273,
          0.007899999618530273,
          0.007899999618530273,
          0.007899999618530273,
          0.004000000189989805,
          0.005799999926239252,
          0.002099999925121665,
          0.002099999925121665,
          0.0017000000225380063
         ],
         "y": [
          1,
          3,
          5,
          7,
          9,
          11,
          13,
          15,
          17,
          19,
          21,
          23,
          25,
          27,
          29,
          31,
          33,
          35,
          37,
          39
         ]
        },
        {
         "marker": {
          "color": "rgba(0, 0, 255, 1.1)"
         },
         "name": "Level 7",
         "orientation": "h",
         "type": "bar",
         "x": [
          0.0052999998442828655,
          0.005400000140070915,
          0.0006000000284984708,
          0.0052999998442828655,
          0.00139999995008111,
          0.00139999995008111,
          0.008500000461935997,
          0.005400000140070915,
          0.0038999998942017555,
          0.0012000000569969416
         ],
         "y": [
          1,
          3,
          5,
          7,
          9,
          11,
          13,
          15,
          17,
          19,
          21,
          23,
          25,
          27,
          29,
          31,
          33,
          35,
          37,
          39
         ]
        },
        {
         "marker": {
          "color": "rgba(0, 0, 255, 1.2000000000000002)"
         },
         "name": "Level 8",
         "orientation": "h",
         "type": "bar",
         "x": [
          0.008899999782443047,
          0.0038999998942017555,
          0.0038999998942017555,
          0.008899999782443047,
          0.008899999782443047,
          0.005799999926239252,
          0.0038999998942017555,
          0.0032999999821186066,
          0.0032999999821186066,
          0.0032999999821186066
         ],
         "y": [
          1,
          3,
          5,
          7,
          9,
          11,
          13,
          15,
          17,
          19,
          21,
          23,
          25,
          27,
          29,
          31,
          33,
          35,
          37,
          39
         ]
        },
        {
         "marker": {
          "color": "rgba(0, 0, 255, 1.3)"
         },
         "name": "Level 9",
         "orientation": "h",
         "type": "bar",
         "x": [
          0.001500000013038516,
          0.001500000013038516,
          0.00139999995008111,
          0.001500000013038516,
          0.005400000140070915,
          0.005400000140070915,
          0.00139999995008111,
          0.001500000013038516,
          0.001500000013038516,
          0.005400000140070915
         ],
         "y": [
          1,
          3,
          5,
          7,
          9,
          11,
          13,
          15,
          17,
          19,
          21,
          23,
          25,
          27,
          29,
          31,
          33,
          35,
          37,
          39
         ]
        },
        {
         "marker": {
          "color": "rgba(0, 0, 255, 1.4)"
         },
         "name": "Level 10",
         "orientation": "h",
         "type": "bar",
         "x": [
          0.0015999999595806003,
          0.004999999888241291,
          0.004999999888241291,
          0.0015999999595806003,
          0.0015999999595806003,
          0.008899999782443047,
          0.004999999888241291,
          0.005799999926239252,
          0.00139999995008111,
          0.00139999995008111
         ],
         "y": [
          1,
          3,
          5,
          7,
          9,
          11,
          13,
          15,
          17,
          19,
          21,
          23,
          25,
          27,
          29,
          31,
          33,
          35,
          37,
          39
         ]
        },
        {
         "marker": {
          "color": "rgba(0, 0, 255, 1.5)"
         },
         "name": "Level 11",
         "orientation": "h",
         "type": "bar",
         "x": [
          0.00839999970048666,
          0.007899999618530273,
          0.005400000140070915,
          0.001500000013038516,
          0.001500000013038516,
          0.001500000013038516,
          0.005400000140070915,
          0.001500000013038516,
          0.001500000013038516,
          0.001500000013038516
         ],
         "y": [
          1,
          3,
          5,
          7,
          9,
          11,
          13,
          15,
          17,
          19,
          21,
          23,
          25,
          27,
          29,
          31,
          33,
          35,
          37,
          39
         ]
        },
        {
         "marker": {
          "color": "rgba(0, 0, 255, 1.6)"
         },
         "name": "Level 12",
         "orientation": "h",
         "type": "bar",
         "x": [
          0.0010000000474974513,
          0.0015999999595806003,
          0.0015999999595806003,
          0.0010000000474974513,
          0.0010000000474974513,
          0.0015999999595806003,
          0.0015999999595806003,
          0.0038999998942017555,
          0.005799999926239252,
          0.0038999998942017555
         ],
         "y": [
          1,
          3,
          5,
          7,
          9,
          11,
          13,
          15,
          17,
          19,
          21,
          23,
          25,
          27,
          29,
          31,
          33,
          35,
          37,
          39
         ]
        },
        {
         "marker": {
          "color": "rgba(0, 0, 255, 1.7000000000000002)"
         },
         "name": "Level 13",
         "orientation": "h",
         "type": "bar",
         "x": [
          0.001500000013038516,
          0.001500000013038516,
          0.001500000013038516,
          0.001500000013038516,
          0.001500000013038516,
          0.001500000013038516,
          0.001500000013038516,
          0.003100000089034438,
          0.003100000089034438,
          0.001500000013038516
         ],
         "y": [
          1,
          3,
          5,
          7,
          9,
          11,
          13,
          15,
          17,
          19,
          21,
          23,
          25,
          27,
          29,
          31,
          33,
          35,
          37,
          39
         ]
        },
        {
         "marker": {
          "color": "rgba(0, 0, 255, 1.8)"
         },
         "name": "Level 14",
         "orientation": "h",
         "type": "bar",
         "x": [
          0.00139999995008111,
          0.0010000000474974513,
          0.0010000000474974513,
          0.00139999995008111,
          0.00139999995008111,
          0.0010000000474974513,
          0.0010000000474974513,
          0.004999999888241291,
          0.0038999998942017555,
          0.0024999999441206455
         ],
         "y": [
          1,
          3,
          5,
          7,
          9,
          11,
          13,
          15,
          17,
          19,
          21,
          23,
          25,
          27,
          29,
          31,
          33,
          35,
          37,
          39
         ]
        },
        {
         "marker": {
          "color": "rgba(0, 0, 255, 1.9000000000000001)"
         },
         "name": "Level 15",
         "orientation": "h",
         "type": "bar",
         "x": [
          0.007899999618530273,
          0.003100000089034438,
          0.007899999618530273,
          0.003100000089034438,
          0.003100000089034438,
          0.003100000089034438,
          0.001500000013038516,
          0.0015999999595806003,
          0.0015999999595806003,
          0.003100000089034438
         ],
         "y": [
          1,
          3,
          5,
          7,
          9,
          11,
          13,
          15,
          17,
          19,
          21,
          23,
          25,
          27,
          29,
          31,
          33,
          35,
          37,
          39
         ]
        },
        {
         "marker": {
          "color": "rgba(0, 0, 255, 2.0)"
         },
         "name": "Level 16",
         "orientation": "h",
         "type": "bar",
         "x": [
          0.0013000000035390258,
          0.00139999995008111,
          0.00139999995008111,
          0.0013000000035390258,
          0.0013000000035390258,
          0.00139999995008111,
          0.00139999995008111,
          0.0015999999595806003,
          0.004999999888241291,
          0.004999999888241291
         ],
         "y": [
          1,
          3,
          5,
          7,
          9,
          11,
          13,
          15,
          17,
          19,
          21,
          23,
          25,
          27,
          29,
          31,
          33,
          35,
          37,
          39
         ]
        },
        {
         "marker": {
          "color": "rgba(0, 0, 255, 2.1)"
         },
         "name": "Level 17",
         "orientation": "h",
         "type": "bar",
         "x": [
          0.001500000013038516,
          0.0015999999595806003,
          0.001500000013038516,
          0.0015999999595806003,
          0.0015999999595806003,
          0.0015999999595806003,
          0.003100000089034438,
          0.00139999995008111,
          0.00139999995008111,
          0.0015999999595806003
         ],
         "y": [
          1,
          3,
          5,
          7,
          9,
          11,
          13,
          15,
          17,
          19,
          21,
          23,
          25,
          27,
          29,
          31,
          33,
          35,
          37,
          39
         ]
        },
        {
         "marker": {
          "color": "rgba(0, 0, 255, 2.2)"
         },
         "name": "Level 18",
         "orientation": "h",
         "type": "bar",
         "x": [
          0.0012000000569969416,
          0.0013000000035390258,
          0.0013000000035390258,
          0.0012000000569969416,
          0.0012000000569969416,
          0.0013000000035390258,
          0.0013000000035390258,
          0.0010000000474974513,
          0.0015999999595806003,
          0.0015999999595806003
         ],
         "y": [
          1,
          3,
          5,
          7,
          9,
          11,
          13,
          15,
          17,
          19,
          21,
          23,
          25,
          27,
          29,
          31,
          33,
          35,
          37,
          39
         ]
        },
        {
         "marker": {
          "color": "rgba(0, 0, 255, 2.3)"
         },
         "name": "Level 19",
         "orientation": "h",
         "type": "bar",
         "x": [
          0.003100000089034438,
          0.00139999995008111,
          0.003100000089034438,
          0.00139999995008111,
          0.00139999995008111,
          0.00139999995008111,
          0.0015999999595806003,
          0.014999999664723873,
          0.014999999664723873,
          0.00139999995008111
         ],
         "y": [
          1,
          3,
          5,
          7,
          9,
          11,
          13,
          15,
          17,
          19,
          21,
          23,
          25,
          27,
          29,
          31,
          33,
          35,
          37,
          39
         ]
        },
        {
         "marker": {
          "color": "rgba(0, 0, 255, 2.4000000000000004)"
         },
         "name": "Level 20",
         "orientation": "h",
         "type": "bar",
         "x": [
          0.0013000000035390258,
          0.0012000000569969416,
          0.0012000000569969416,
          0.0013000000035390258,
          0.0013000000035390258,
          0.0007999999797903001,
          0.0007999999797903001,
          0.00139999995008111,
          0.00139999995008111,
          0.00139999995008111
         ],
         "y": [
          1,
          3,
          5,
          7,
          9,
          11,
          13,
          15,
          17,
          19,
          21,
          23,
          25,
          27,
          29,
          31,
          33,
          35,
          37,
          39
         ]
        }
       ],
       "layout": {
        "autosize": true,
        "template": {
         "data": {
          "bar": [
           {
            "error_x": {
             "color": "#2a3f5f"
            },
            "error_y": {
             "color": "#2a3f5f"
            },
            "marker": {
             "line": {
              "color": "#E5ECF6",
              "width": 0.5
             },
             "pattern": {
              "fillmode": "overlay",
              "size": 10,
              "solidity": 0.2
             }
            },
            "type": "bar"
           }
          ],
          "barpolar": [
           {
            "marker": {
             "line": {
              "color": "#E5ECF6",
              "width": 0.5
             },
             "pattern": {
              "fillmode": "overlay",
              "size": 10,
              "solidity": 0.2
             }
            },
            "type": "barpolar"
           }
          ],
          "carpet": [
           {
            "aaxis": {
             "endlinecolor": "#2a3f5f",
             "gridcolor": "white",
             "linecolor": "white",
             "minorgridcolor": "white",
             "startlinecolor": "#2a3f5f"
            },
            "baxis": {
             "endlinecolor": "#2a3f5f",
             "gridcolor": "white",
             "linecolor": "white",
             "minorgridcolor": "white",
             "startlinecolor": "#2a3f5f"
            },
            "type": "carpet"
           }
          ],
          "choropleth": [
           {
            "colorbar": {
             "outlinewidth": 0,
             "ticks": ""
            },
            "type": "choropleth"
           }
          ],
          "contour": [
           {
            "colorbar": {
             "outlinewidth": 0,
             "ticks": ""
            },
            "colorscale": [
             [
              0,
              "#0d0887"
             ],
             [
              0.1111111111111111,
              "#46039f"
             ],
             [
              0.2222222222222222,
              "#7201a8"
             ],
             [
              0.3333333333333333,
              "#9c179e"
             ],
             [
              0.4444444444444444,
              "#bd3786"
             ],
             [
              0.5555555555555556,
              "#d8576b"
             ],
             [
              0.6666666666666666,
              "#ed7953"
             ],
             [
              0.7777777777777778,
              "#fb9f3a"
             ],
             [
              0.8888888888888888,
              "#fdca26"
             ],
             [
              1,
              "#f0f921"
             ]
            ],
            "type": "contour"
           }
          ],
          "contourcarpet": [
           {
            "colorbar": {
             "outlinewidth": 0,
             "ticks": ""
            },
            "type": "contourcarpet"
           }
          ],
          "heatmap": [
           {
            "colorbar": {
             "outlinewidth": 0,
             "ticks": ""
            },
            "colorscale": [
             [
              0,
              "#0d0887"
             ],
             [
              0.1111111111111111,
              "#46039f"
             ],
             [
              0.2222222222222222,
              "#7201a8"
             ],
             [
              0.3333333333333333,
              "#9c179e"
             ],
             [
              0.4444444444444444,
              "#bd3786"
             ],
             [
              0.5555555555555556,
              "#d8576b"
             ],
             [
              0.6666666666666666,
              "#ed7953"
             ],
             [
              0.7777777777777778,
              "#fb9f3a"
             ],
             [
              0.8888888888888888,
              "#fdca26"
             ],
             [
              1,
              "#f0f921"
             ]
            ],
            "type": "heatmap"
           }
          ],
          "heatmapgl": [
           {
            "colorbar": {
             "outlinewidth": 0,
             "ticks": ""
            },
            "colorscale": [
             [
              0,
              "#0d0887"
             ],
             [
              0.1111111111111111,
              "#46039f"
             ],
             [
              0.2222222222222222,
              "#7201a8"
             ],
             [
              0.3333333333333333,
              "#9c179e"
             ],
             [
              0.4444444444444444,
              "#bd3786"
             ],
             [
              0.5555555555555556,
              "#d8576b"
             ],
             [
              0.6666666666666666,
              "#ed7953"
             ],
             [
              0.7777777777777778,
              "#fb9f3a"
             ],
             [
              0.8888888888888888,
              "#fdca26"
             ],
             [
              1,
              "#f0f921"
             ]
            ],
            "type": "heatmapgl"
           }
          ],
          "histogram": [
           {
            "marker": {
             "pattern": {
              "fillmode": "overlay",
              "size": 10,
              "solidity": 0.2
             }
            },
            "type": "histogram"
           }
          ],
          "histogram2d": [
           {
            "colorbar": {
             "outlinewidth": 0,
             "ticks": ""
            },
            "colorscale": [
             [
              0,
              "#0d0887"
             ],
             [
              0.1111111111111111,
              "#46039f"
             ],
             [
              0.2222222222222222,
              "#7201a8"
             ],
             [
              0.3333333333333333,
              "#9c179e"
             ],
             [
              0.4444444444444444,
              "#bd3786"
             ],
             [
              0.5555555555555556,
              "#d8576b"
             ],
             [
              0.6666666666666666,
              "#ed7953"
             ],
             [
              0.7777777777777778,
              "#fb9f3a"
             ],
             [
              0.8888888888888888,
              "#fdca26"
             ],
             [
              1,
              "#f0f921"
             ]
            ],
            "type": "histogram2d"
           }
          ],
          "histogram2dcontour": [
           {
            "colorbar": {
             "outlinewidth": 0,
             "ticks": ""
            },
            "colorscale": [
             [
              0,
              "#0d0887"
             ],
             [
              0.1111111111111111,
              "#46039f"
             ],
             [
              0.2222222222222222,
              "#7201a8"
             ],
             [
              0.3333333333333333,
              "#9c179e"
             ],
             [
              0.4444444444444444,
              "#bd3786"
             ],
             [
              0.5555555555555556,
              "#d8576b"
             ],
             [
              0.6666666666666666,
              "#ed7953"
             ],
             [
              0.7777777777777778,
              "#fb9f3a"
             ],
             [
              0.8888888888888888,
              "#fdca26"
             ],
             [
              1,
              "#f0f921"
             ]
            ],
            "type": "histogram2dcontour"
           }
          ],
          "mesh3d": [
           {
            "colorbar": {
             "outlinewidth": 0,
             "ticks": ""
            },
            "type": "mesh3d"
           }
          ],
          "parcoords": [
           {
            "line": {
             "colorbar": {
              "outlinewidth": 0,
              "ticks": ""
             }
            },
            "type": "parcoords"
           }
          ],
          "pie": [
           {
            "automargin": true,
            "type": "pie"
           }
          ],
          "scatter": [
           {
            "fillpattern": {
             "fillmode": "overlay",
             "size": 10,
             "solidity": 0.2
            },
            "type": "scatter"
           }
          ],
          "scatter3d": [
           {
            "line": {
             "colorbar": {
              "outlinewidth": 0,
              "ticks": ""
             }
            },
            "marker": {
             "colorbar": {
              "outlinewidth": 0,
              "ticks": ""
             }
            },
            "type": "scatter3d"
           }
          ],
          "scattercarpet": [
           {
            "marker": {
             "colorbar": {
              "outlinewidth": 0,
              "ticks": ""
             }
            },
            "type": "scattercarpet"
           }
          ],
          "scattergeo": [
           {
            "marker": {
             "colorbar": {
              "outlinewidth": 0,
              "ticks": ""
             }
            },
            "type": "scattergeo"
           }
          ],
          "scattergl": [
           {
            "marker": {
             "colorbar": {
              "outlinewidth": 0,
              "ticks": ""
             }
            },
            "type": "scattergl"
           }
          ],
          "scattermapbox": [
           {
            "marker": {
             "colorbar": {
              "outlinewidth": 0,
              "ticks": ""
             }
            },
            "type": "scattermapbox"
           }
          ],
          "scatterpolar": [
           {
            "marker": {
             "colorbar": {
              "outlinewidth": 0,
              "ticks": ""
             }
            },
            "type": "scatterpolar"
           }
          ],
          "scatterpolargl": [
           {
            "marker": {
             "colorbar": {
              "outlinewidth": 0,
              "ticks": ""
             }
            },
            "type": "scatterpolargl"
           }
          ],
          "scatterternary": [
           {
            "marker": {
             "colorbar": {
              "outlinewidth": 0,
              "ticks": ""
             }
            },
            "type": "scatterternary"
           }
          ],
          "surface": [
           {
            "colorbar": {
             "outlinewidth": 0,
             "ticks": ""
            },
            "colorscale": [
             [
              0,
              "#0d0887"
             ],
             [
              0.1111111111111111,
              "#46039f"
             ],
             [
              0.2222222222222222,
              "#7201a8"
             ],
             [
              0.3333333333333333,
              "#9c179e"
             ],
             [
              0.4444444444444444,
              "#bd3786"
             ],
             [
              0.5555555555555556,
              "#d8576b"
             ],
             [
              0.6666666666666666,
              "#ed7953"
             ],
             [
              0.7777777777777778,
              "#fb9f3a"
             ],
             [
              0.8888888888888888,
              "#fdca26"
             ],
             [
              1,
              "#f0f921"
             ]
            ],
            "type": "surface"
           }
          ],
          "table": [
           {
            "cells": {
             "fill": {
              "color": "#EBF0F8"
             },
             "line": {
              "color": "white"
             }
            },
            "header": {
             "fill": {
              "color": "#C8D4E3"
             },
             "line": {
              "color": "white"
             }
            },
            "type": "table"
           }
          ]
         },
         "layout": {
          "annotationdefaults": {
           "arrowcolor": "#2a3f5f",
           "arrowhead": 0,
           "arrowwidth": 1
          },
          "autotypenumbers": "strict",
          "coloraxis": {
           "colorbar": {
            "outlinewidth": 0,
            "ticks": ""
           }
          },
          "colorscale": {
           "diverging": [
            [
             0,
             "#8e0152"
            ],
            [
             0.1,
             "#c51b7d"
            ],
            [
             0.2,
             "#de77ae"
            ],
            [
             0.3,
             "#f1b6da"
            ],
            [
             0.4,
             "#fde0ef"
            ],
            [
             0.5,
             "#f7f7f7"
            ],
            [
             0.6,
             "#e6f5d0"
            ],
            [
             0.7,
             "#b8e186"
            ],
            [
             0.8,
             "#7fbc41"
            ],
            [
             0.9,
             "#4d9221"
            ],
            [
             1,
             "#276419"
            ]
           ],
           "sequential": [
            [
             0,
             "#0d0887"
            ],
            [
             0.1111111111111111,
             "#46039f"
            ],
            [
             0.2222222222222222,
             "#7201a8"
            ],
            [
             0.3333333333333333,
             "#9c179e"
            ],
            [
             0.4444444444444444,
             "#bd3786"
            ],
            [
             0.5555555555555556,
             "#d8576b"
            ],
            [
             0.6666666666666666,
             "#ed7953"
            ],
            [
             0.7777777777777778,
             "#fb9f3a"
            ],
            [
             0.8888888888888888,
             "#fdca26"
            ],
            [
             1,
             "#f0f921"
            ]
           ],
           "sequentialminus": [
            [
             0,
             "#0d0887"
            ],
            [
             0.1111111111111111,
             "#46039f"
            ],
            [
             0.2222222222222222,
             "#7201a8"
            ],
            [
             0.3333333333333333,
             "#9c179e"
            ],
            [
             0.4444444444444444,
             "#bd3786"
            ],
            [
             0.5555555555555556,
             "#d8576b"
            ],
            [
             0.6666666666666666,
             "#ed7953"
            ],
            [
             0.7777777777777778,
             "#fb9f3a"
            ],
            [
             0.8888888888888888,
             "#fdca26"
            ],
            [
             1,
             "#f0f921"
            ]
           ]
          },
          "colorway": [
           "#636efa",
           "#EF553B",
           "#00cc96",
           "#ab63fa",
           "#FFA15A",
           "#19d3f3",
           "#FF6692",
           "#B6E880",
           "#FF97FF",
           "#FECB52"
          ],
          "font": {
           "color": "#2a3f5f"
          },
          "geo": {
           "bgcolor": "white",
           "lakecolor": "white",
           "landcolor": "#E5ECF6",
           "showlakes": true,
           "showland": true,
           "subunitcolor": "white"
          },
          "hoverlabel": {
           "align": "left"
          },
          "hovermode": "closest",
          "mapbox": {
           "style": "light"
          },
          "paper_bgcolor": "white",
          "plot_bgcolor": "#E5ECF6",
          "polar": {
           "angularaxis": {
            "gridcolor": "white",
            "linecolor": "white",
            "ticks": ""
           },
           "bgcolor": "#E5ECF6",
           "radialaxis": {
            "gridcolor": "white",
            "linecolor": "white",
            "ticks": ""
           }
          },
          "scene": {
           "xaxis": {
            "backgroundcolor": "#E5ECF6",
            "gridcolor": "white",
            "gridwidth": 2,
            "linecolor": "white",
            "showbackground": true,
            "ticks": "",
            "zerolinecolor": "white"
           },
           "yaxis": {
            "backgroundcolor": "#E5ECF6",
            "gridcolor": "white",
            "gridwidth": 2,
            "linecolor": "white",
            "showbackground": true,
            "ticks": "",
            "zerolinecolor": "white"
           },
           "zaxis": {
            "backgroundcolor": "#E5ECF6",
            "gridcolor": "white",
            "gridwidth": 2,
            "linecolor": "white",
            "showbackground": true,
            "ticks": "",
            "zerolinecolor": "white"
           }
          },
          "shapedefaults": {
           "line": {
            "color": "#2a3f5f"
           }
          },
          "ternary": {
           "aaxis": {
            "gridcolor": "white",
            "linecolor": "white",
            "ticks": ""
           },
           "baxis": {
            "gridcolor": "white",
            "linecolor": "white",
            "ticks": ""
           },
           "bgcolor": "#E5ECF6",
           "caxis": {
            "gridcolor": "white",
            "linecolor": "white",
            "ticks": ""
           }
          },
          "title": {
           "x": 0.05
          },
          "xaxis": {
           "automargin": true,
           "gridcolor": "white",
           "linecolor": "white",
           "ticks": "",
           "title": {
            "standoff": 15
           },
           "zerolinecolor": "white",
           "zerolinewidth": 2
          },
          "yaxis": {
           "automargin": true,
           "gridcolor": "white",
           "linecolor": "white",
           "ticks": "",
           "title": {
            "standoff": 15
           },
           "zerolinecolor": "white",
           "zerolinewidth": 2
          }
         }
        },
        "title": {
         "text": "Volume levels for the limit order book"
        },
        "xaxis": {
         "autorange": true,
         "range": [
          0,
          0.015789473331288287
         ],
         "title": {
          "text": "Volume"
         },
         "type": "linear"
        },
        "yaxis": {
         "autorange": true,
         "range": [
          0,
          20
         ],
         "title": {
          "text": "Timestamp"
         },
         "type": "linear"
        }
       }
      },
      "image/png": "[encoded data removed]",
      "text/html": [
       "<div>                            <div id=\"8c5475ff-0a05-4d43-bbf5-0449daa03645\" class=\"plotly-graph-div\" style=\"height:525px; width:100%;\"></div>            <script type=\"text/javascript\">                require([\"plotly\"], function(Plotly) {                    window.PLOTLYENV=window.PLOTLYENV || {};                                    if (document.getElementById(\"8c5475ff-0a05-4d43-bbf5-0449daa03645\")) {                    Plotly.newPlot(                        \"8c5475ff-0a05-4d43-bbf5-0449daa03645\",                        [{\"marker\":{\"color\":\"rgba(0, 0, 255, 0.5)\"},\"name\":\"Level 1\",\"orientation\":\"h\",\"x\":[0.0035000001080334187,0.002099999925121665,0.0012000000569969416,0.0031999999191612005,0.0031999999191612005,0.0031999999191612005,9.999999747378752e-05,0.009200000204145908,0.008200000040233135,0.008200000040233135],\"y\":[1,3,5,7,9,11,13,15,17,19,21,23,25,27,29,31,33,35,37,39],\"type\":\"bar\"},{\"marker\":{\"color\":\"rgba(0, 0, 255, 0.6)\"},\"name\":\"Level 2\",\"orientation\":\"h\",\"x\":[0.0032999999821186066,0.0032999999821186066,0.0032999999821186066,0.0032999999821186066,0.0032999999821186066,0.002099999925121665,0.004100000020116568,0.004000000189989805,0.004000000189989805,0.004999999888241291],\"y\":[1,3,5,7,9,11,13,15,17,19,21,23,25,27,29,31,33,35,37,39],\"type\":\"bar\"},{\"marker\":{\"color\":\"rgba(0, 0, 255, 0.7)\"},\"name\":\"Level 3\",\"orientation\":\"h\",\"x\":[0.0020000000949949026,0.0015999999595806003,0.0020000000949949026,0.009399999864399433,0.009399999864399433,0.005799999926239252,0.0026000000070780516,0.008500000461935997,0.0010999999940395355,0.0010999999940395355],\"y\":[1,3,5,7,9,11,13,15,17,19,21,23,25,27,29,31,33,35,37,39],\"type\":\"bar\"},{\"marker\":{\"color\":\"rgba(0, 0, 255, 0.8)\"},\"name\":\"Level 4\",\"orientation\":\"h\",\"x\":[0.006800000090152025,0.006800000090152025,0.006800000090152025,0.006800000090152025,0.006800000090152025,0.00430000014603138,0.0032999999821186066,0.0017000000225380063,0.0017000000225380063,0.004000000189989805],\"y\":[1,3,5,7,9,11,13,15,17,19,21,23,25,27,29,31,33,35,37,39],\"type\":\"bar\"},{\"marker\":{\"color\":\"rgba(0, 0, 255, 0.9)\"},\"name\":\"Level 5\",\"orientation\":\"h\",\"x\":[0.0015999999595806003,0.00139999995008111,0.003599999938160181,0.008500000461935997,0.008500000461935997,0.008500000461935997,0.008200000040233135,0.00139999995008111,0.008500000461935997,0.008500000461935997],\"y\":[1,3,5,7,9,11,13,15,17,19,21,23,25,27,29,31,33,35,37,39],\"type\":\"bar\"},{\"marker\":{\"color\":\"rgba(0, 0, 255, 1.0)\"},\"name\":\"Level 6\",\"orientation\":\"h\",\"x\":[0.007899999618530273,0.007899999618530273,0.007899999618530273,0.007899999618530273,0.007899999618530273,0.004000000189989805,0.005799999926239252,0.002099999925121665,0.002099999925121665,0.0017000000225380063],\"y\":[1,3,5,7,9,11,13,15,17,19,21,23,25,27,29,31,33,35,37,39],\"type\":\"bar\"},{\"marker\":{\"color\":\"rgba(0, 0, 255, 1.1)\"},\"name\":\"Level 7\",\"orientation\":\"h\",\"x\":[0.0052999998442828655,0.005400000140070915,0.0006000000284984708,0.0052999998442828655,0.00139999995008111,0.00139999995008111,0.008500000461935997,0.005400000140070915,0.0038999998942017555,0.0012000000569969416],\"y\":[1,3,5,7,9,11,13,15,17,19,21,23,25,27,29,31,33,35,37,39],\"type\":\"bar\"},{\"marker\":{\"color\":\"rgba(0, 0, 255, 1.2000000000000002)\"},\"name\":\"Level 8\",\"orientation\":\"h\",\"x\":[0.008899999782443047,0.0038999998942017555,0.0038999998942017555,0.008899999782443047,0.008899999782443047,0.005799999926239252,0.0038999998942017555,0.0032999999821186066,0.0032999999821186066,0.0032999999821186066],\"y\":[1,3,5,7,9,11,13,15,17,19,21,23,25,27,29,31,33,35,37,39],\"type\":\"bar\"},{\"marker\":{\"color\":\"rgba(0, 0, 255, 1.3)\"},\"name\":\"Level 9\",\"orientation\":\"h\",\"x\":[0.001500000013038516,0.001500000013038516,0.00139999995008111,0.001500000013038516,0.005400000140070915,0.005400000140070915,0.00139999995008111,0.001500000013038516,0.001500000013038516,0.005400000140070915],\"y\":[1,3,5,7,9,11,13,15,17,19,21,23,25,27,29,31,33,35,37,39],\"type\":\"bar\"},{\"marker\":{\"color\":\"rgba(0, 0, 255, 1.4)\"},\"name\":\"Level 10\",\"orientation\":\"h\",\"x\":[0.0015999999595806003,0.004999999888241291,0.004999999888241291,0.0015999999595806003,0.0015999999595806003,0.008899999782443047,0.004999999888241291,0.005799999926239252,0.00139999995008111,0.00139999995008111],\"y\":[1,3,5,7,9,11,13,15,17,19,21,23,25,27,29,31,33,35,37,39],\"type\":\"bar\"},{\"marker\":{\"color\":\"rgba(0, 0, 255, 1.5)\"},\"name\":\"Level 11\",\"orientation\":\"h\",\"x\":[0.00839999970048666,0.007899999618530273,0.005400000140070915,0.001500000013038516,0.001500000013038516,0.001500000013038516,0.005400000140070915,0.001500000013038516,0.001500000013038516,0.001500000013038516],\"y\":[1,3,5,7,9,11,13,15,17,19,21,23,25,27,29,31,33,35,37,39],\"type\":\"bar\"},{\"marker\":{\"color\":\"rgba(0, 0, 255, 1.6)\"},\"name\":\"Level 12\",\"orientation\":\"h\",\"x\":[0.0010000000474974513,0.0015999999595806003,0.0015999999595806003,0.0010000000474974513,0.0010000000474974513,0.0015999999595806003,0.0015999999595806003,0.0038999998942017555,0.005799999926239252,0.0038999998942017555],\"y\":[1,3,5,7,9,11,13,15,17,19,21,23,25,27,29,31,33,35,37,39],\"type\":\"bar\"},{\"marker\":{\"color\":\"rgba(0, 0, 255, 1.7000000000000002)\"},\"name\":\"Level 13\",\"orientation\":\"h\",\"x\":[0.001500000013038516,0.001500000013038516,0.001500000013038516,0.001500000013038516,0.001500000013038516,0.001500000013038516,0.001500000013038516,0.003100000089034438,0.003100000089034438,0.001500000013038516],\"y\":[1,3,5,7,9,11,13,15,17,19,21,23,25,27,29,31,33,35,37,39],\"type\":\"bar\"},{\"marker\":{\"color\":\"rgba(0, 0, 255, 1.8)\"},\"name\":\"Level 14\",\"orientation\":\"h\",\"x\":[0.00139999995008111,0.0010000000474974513,0.0010000000474974513,0.00139999995008111,0.00139999995008111,0.0010000000474974513,0.0010000000474974513,0.004999999888241291,0.0038999998942017555,0.0024999999441206455],\"y\":[1,3,5,7,9,11,13,15,17,19,21,23,25,27,29,31,33,35,37,39],\"type\":\"bar\"},{\"marker\":{\"color\":\"rgba(0, 0, 255, 1.9000000000000001)\"},\"name\":\"Level 15\",\"orientation\":\"h\",\"x\":[0.007899999618530273,0.003100000089034438,0.007899999618530273,0.003100000089034438,0.003100000089034438,0.003100000089034438,0.001500000013038516,0.0015999999595806003,0.0015999999595806003,0.003100000089034438],\"y\":[1,3,5,7,9,11,13,15,17,19,21,23,25,27,29,31,33,35,37,39],\"type\":\"bar\"},{\"marker\":{\"color\":\"rgba(0, 0, 255, 2.0)\"},\"name\":\"Level 16\",\"orientation\":\"h\",\"x\":[0.0013000000035390258,0.00139999995008111,0.00139999995008111,0.0013000000035390258,0.0013000000035390258,0.00139999995008111,0.00139999995008111,0.0015999999595806003,0.004999999888241291,0.004999999888241291],\"y\":[1,3,5,7,9,11,13,15,17,19,21,23,25,27,29,31,33,35,37,39],\"type\":\"bar\"},{\"marker\":{\"color\":\"rgba(0, 0, 255, 2.1)\"},\"name\":\"Level 17\",\"orientation\":\"h\",\"x\":[0.001500000013038516,0.0015999999595806003,0.001500000013038516,0.0015999999595806003,0.0015999999595806003,0.0015999999595806003,0.003100000089034438,0.00139999995008111,0.00139999995008111,0.0015999999595806003],\"y\":[1,3,5,7,9,11,13,15,17,19,21,23,25,27,29,31,33,35,37,39],\"type\":\"bar\"},{\"marker\":{\"color\":\"rgba(0, 0, 255, 2.2)\"},\"name\":\"Level 18\",\"orientation\":\"h\",\"x\":[0.0012000000569969416,0.0013000000035390258,0.0013000000035390258,0.0012000000569969416,0.0012000000569969416,0.0013000000035390258,0.0013000000035390258,0.0010000000474974513,0.0015999999595806003,0.0015999999595806003],\"y\":[1,3,5,7,9,11,13,15,17,19,21,23,25,27,29,31,33,35,37,39],\"type\":\"bar\"},{\"marker\":{\"color\":\"rgba(0, 0, 255, 2.3)\"},\"name\":\"Level 19\",\"orientation\":\"h\",\"x\":[0.003100000089034438,0.00139999995008111,0.003100000089034438,0.00139999995008111,0.00139999995008111,0.00139999995008111,0.0015999999595806003,0.014999999664723873,0.014999999664723873,0.00139999995008111],\"y\":[1,3,5,7,9,11,13,15,17,19,21,23,25,27,29,31,33,35,37,39],\"type\":\"bar\"},{\"marker\":{\"color\":\"rgba(0, 0, 255, 2.4000000000000004)\"},\"name\":\"Level 20\",\"orientation\":\"h\",\"x\":[0.0013000000035390258,0.0012000000569969416,0.0012000000569969416,0.0013000000035390258,0.0013000000035390258,0.0007999999797903001,0.0007999999797903001,0.00139999995008111,0.00139999995008111,0.00139999995008111],\"y\":[1,3,5,7,9,11,13,15,17,19,21,23,25,27,29,31,33,35,37,39],\"type\":\"bar\"}],                        {\"template\":{\"data\":{\"histogram2dcontour\":[{\"type\":\"histogram2dcontour\",\"colorbar\":{\"outlinewidth\":0,\"ticks\":\"\"},\"colorscale\":[[0.0,\"#0d0887\"],[0.1111111111111111,\"#46039f\"],[0.2222222222222222,\"#7201a8\"],[0.3333333333333333,\"#9c179e\"],[0.4444444444444444,\"#bd3786\"],[0.5555555555555556,\"#d8576b\"],[0.6666666666666666,\"#ed7953\"],[0.7777777777777778,\"#fb9f3a\"],[0.8888888888888888,\"#fdca26\"],[1.0,\"#f0f921\"]]}],\"choropleth\":[{\"type\":\"choropleth\",\"colorbar\":{\"outlinewidth\":0,\"ticks\":\"\"}}],\"histogram2d\":[{\"type\":\"histogram2d\",\"colorbar\":{\"outlinewidth\":0,\"ticks\":\"\"},\"colorscale\":[[0.0,\"#0d0887\"],[0.1111111111111111,\"#46039f\"],[0.2222222222222222,\"#7201a8\"],[0.3333333333333333,\"#9c179e\"],[0.4444444444444444,\"#bd3786\"],[0.5555555555555556,\"#d8576b\"],[0.6666666666666666,\"#ed7953\"],[0.7777777777777778,\"#fb9f3a\"],[0.8888888888888888,\"#fdca26\"],[1.0,\"#f0f921\"]]}],\"heatmap\":[{\"type\":\"heatmap\",\"colorbar\":{\"outlinewidth\":0,\"ticks\":\"\"},\"colorscale\":[[0.0,\"#0d0887\"],[0.1111111111111111,\"#46039f\"],[0.2222222222222222,\"#7201a8\"],[0.3333333333333333,\"#9c179e\"],[0.4444444444444444,\"#bd3786\"],[0.5555555555555556,\"#d8576b\"],[0.6666666666666666,\"#ed7953\"],[0.7777777777777778,\"#fb9f3a\"],[0.8888888888888888,\"#fdca26\"],[1.0,\"#f0f921\"]]}],\"heatmapgl\":[{\"type\":\"heatmapgl\",\"colorbar\":{\"outlinewidth\":0,\"ticks\":\"\"},\"colorscale\":[[0.0,\"#0d0887\"],[0.1111111111111111,\"#46039f\"],[0.2222222222222222,\"#7201a8\"],[0.3333333333333333,\"#9c179e\"],[0.4444444444444444,\"#bd3786\"],[0.5555555555555556,\"#d8576b\"],[0.6666666666666666,\"#ed7953\"],[0.7777777777777778,\"#fb9f3a\"],[0.8888888888888888,\"#fdca26\"],[1.0,\"#f0f921\"]]}],\"contourcarpet\":[{\"type\":\"contourcarpet\",\"colorbar\":{\"outlinewidth\":0,\"ticks\":\"\"}}],\"contour\":[{\"type\":\"contour\",\"colorbar\":{\"outlinewidth\":0,\"ticks\":\"\"},\"colorscale\":[[0.0,\"#0d0887\"],[0.1111111111111111,\"#46039f\"],[0.2222222222222222,\"#7201a8\"],[0.3333333333333333,\"#9c179e\"],[0.4444444444444444,\"#bd3786\"],[0.5555555555555556,\"#d8576b\"],[0.6666666666666666,\"#ed7953\"],[0.7777777777777778,\"#fb9f3a\"],[0.8888888888888888,\"#fdca26\"],[1.0,\"#f0f921\"]]}],\"surface\":[{\"type\":\"surface\",\"colorbar\":{\"outlinewidth\":0,\"ticks\":\"\"},\"colorscale\":[[0.0,\"#0d0887\"],[0.1111111111111111,\"#46039f\"],[0.2222222222222222,\"#7201a8\"],[0.3333333333333333,\"#9c179e\"],[0.4444444444444444,\"#bd3786\"],[0.5555555555555556,\"#d8576b\"],[0.6666666666666666,\"#ed7953\"],[0.7777777777777778,\"#fb9f3a\"],[0.8888888888888888,\"#fdca26\"],[1.0,\"#f0f921\"]]}],\"mesh3d\":[{\"type\":\"mesh3d\",\"colorbar\":{\"outlinewidth\":0,\"ticks\":\"\"}}],\"scatter\":[{\"fillpattern\":{\"fillmode\":\"overlay\",\"size\":10,\"solidity\":0.2},\"type\":\"scatter\"}],\"parcoords\":[{\"type\":\"parcoords\",\"line\":{\"colorbar\":{\"outlinewidth\":0,\"ticks\":\"\"}}}],\"scatterpolargl\":[{\"type\":\"scatterpolargl\",\"marker\":{\"colorbar\":{\"outlinewidth\":0,\"ticks\":\"\"}}}],\"bar\":[{\"error_x\":{\"color\":\"#2a3f5f\"},\"error_y\":{\"color\":\"#2a3f5f\"},\"marker\":{\"line\":{\"color\":\"#E5ECF6\",\"width\":0.5},\"pattern\":{\"fillmode\":\"overlay\",\"size\":10,\"solidity\":0.2}},\"type\":\"bar\"}],\"scattergeo\":[{\"type\":\"scattergeo\",\"marker\":{\"colorbar\":{\"outlinewidth\":0,\"ticks\":\"\"}}}],\"scatterpolar\":[{\"type\":\"scatterpolar\",\"marker\":{\"colorbar\":{\"outlinewidth\":0,\"ticks\":\"\"}}}],\"histogram\":[{\"marker\":{\"pattern\":{\"fillmode\":\"overlay\",\"size\":10,\"solidity\":0.2}},\"type\":\"histogram\"}],\"scattergl\":[{\"type\":\"scattergl\",\"marker\":{\"colorbar\":{\"outlinewidth\":0,\"ticks\":\"\"}}}],\"scatter3d\":[{\"type\":\"scatter3d\",\"line\":{\"colorbar\":{\"outlinewidth\":0,\"ticks\":\"\"}},\"marker\":{\"colorbar\":{\"outlinewidth\":0,\"ticks\":\"\"}}}],\"scattermapbox\":[{\"type\":\"scattermapbox\",\"marker\":{\"colorbar\":{\"outlinewidth\":0,\"ticks\":\"\"}}}],\"scatterternary\":[{\"type\":\"scatterternary\",\"marker\":{\"colorbar\":{\"outlinewidth\":0,\"ticks\":\"\"}}}],\"scattercarpet\":[{\"type\":\"scattercarpet\",\"marker\":{\"colorbar\":{\"outlinewidth\":0,\"ticks\":\"\"}}}],\"carpet\":[{\"aaxis\":{\"endlinecolor\":\"#2a3f5f\",\"gridcolor\":\"white\",\"linecolor\":\"white\",\"minorgridcolor\":\"white\",\"startlinecolor\":\"#2a3f5f\"},\"baxis\":{\"endlinecolor\":\"#2a3f5f\",\"gridcolor\":\"white\",\"linecolor\":\"white\",\"minorgridcolor\":\"white\",\"startlinecolor\":\"#2a3f5f\"},\"type\":\"carpet\"}],\"table\":[{\"cells\":{\"fill\":{\"color\":\"#EBF0F8\"},\"line\":{\"color\":\"white\"}},\"header\":{\"fill\":{\"color\":\"#C8D4E3\"},\"line\":{\"color\":\"white\"}},\"type\":\"table\"}],\"barpolar\":[{\"marker\":{\"line\":{\"color\":\"#E5ECF6\",\"width\":0.5},\"pattern\":{\"fillmode\":\"overlay\",\"size\":10,\"solidity\":0.2}},\"type\":\"barpolar\"}],\"pie\":[{\"automargin\":true,\"type\":\"pie\"}]},\"layout\":{\"autotypenumbers\":\"strict\",\"colorway\":[\"#636efa\",\"#EF553B\",\"#00cc96\",\"#ab63fa\",\"#FFA15A\",\"#19d3f3\",\"#FF6692\",\"#B6E880\",\"#FF97FF\",\"#FECB52\"],\"font\":{\"color\":\"#2a3f5f\"},\"hovermode\":\"closest\",\"hoverlabel\":{\"align\":\"left\"},\"paper_bgcolor\":\"white\",\"plot_bgcolor\":\"#E5ECF6\",\"polar\":{\"bgcolor\":\"#E5ECF6\",\"angularaxis\":{\"gridcolor\":\"white\",\"linecolor\":\"white\",\"ticks\":\"\"},\"radialaxis\":{\"gridcolor\":\"white\",\"linecolor\":\"white\",\"ticks\":\"\"}},\"ternary\":{\"bgcolor\":\"#E5ECF6\",\"aaxis\":{\"gridcolor\":\"white\",\"linecolor\":\"white\",\"ticks\":\"\"},\"baxis\":{\"gridcolor\":\"white\",\"linecolor\":\"white\",\"ticks\":\"\"},\"caxis\":{\"gridcolor\":\"white\",\"linecolor\":\"white\",\"ticks\":\"\"}},\"coloraxis\":{\"colorbar\":{\"outlinewidth\":0,\"ticks\":\"\"}},\"colorscale\":{\"sequential\":[[0.0,\"#0d0887\"],[0.1111111111111111,\"#46039f\"],[0.2222222222222222,\"#7201a8\"],[0.3333333333333333,\"#9c179e\"],[0.4444444444444444,\"#bd3786\"],[0.5555555555555556,\"#d8576b\"],[0.6666666666666666,\"#ed7953\"],[0.7777777777777778,\"#fb9f3a\"],[0.8888888888888888,\"#fdca26\"],[1.0,\"#f0f921\"]],\"sequentialminus\":[[0.0,\"#0d0887\"],[0.1111111111111111,\"#46039f\"],[0.2222222222222222,\"#7201a8\"],[0.3333333333333333,\"#9c179e\"],[0.4444444444444444,\"#bd3786\"],[0.5555555555555556,\"#d8576b\"],[0.6666666666666666,\"#ed7953\"],[0.7777777777777778,\"#fb9f3a\"],[0.8888888888888888,\"#fdca26\"],[1.0,\"#f0f921\"]],\"diverging\":[[0,\"#8e0152\"],[0.1,\"#c51b7d\"],[0.2,\"#de77ae\"],[0.3,\"#f1b6da\"],[0.4,\"#fde0ef\"],[0.5,\"#f7f7f7\"],[0.6,\"#e6f5d0\"],[0.7,\"#b8e186\"],[0.8,\"#7fbc41\"],[0.9,\"#4d9221\"],[1,\"#276419\"]]},\"xaxis\":{\"gridcolor\":\"white\",\"linecolor\":\"white\",\"ticks\":\"\",\"title\":{\"standoff\":15},\"zerolinecolor\":\"white\",\"automargin\":true,\"zerolinewidth\":2},\"yaxis\":{\"gridcolor\":\"white\",\"linecolor\":\"white\",\"ticks\":\"\",\"title\":{\"standoff\":15},\"zerolinecolor\":\"white\",\"automargin\":true,\"zerolinewidth\":2},\"scene\":{\"xaxis\":{\"backgroundcolor\":\"#E5ECF6\",\"gridcolor\":\"white\",\"linecolor\":\"white\",\"showbackground\":true,\"ticks\":\"\",\"zerolinecolor\":\"white\",\"gridwidth\":2},\"yaxis\":{\"backgroundcolor\":\"#E5ECF6\",\"gridcolor\":\"white\",\"linecolor\":\"white\",\"showbackground\":true,\"ticks\":\"\",\"zerolinecolor\":\"white\",\"gridwidth\":2},\"zaxis\":{\"backgroundcolor\":\"#E5ECF6\",\"gridcolor\":\"white\",\"linecolor\":\"white\",\"showbackground\":true,\"ticks\":\"\",\"zerolinecolor\":\"white\",\"gridwidth\":2}},\"shapedefaults\":{\"line\":{\"color\":\"#2a3f5f\"}},\"annotationdefaults\":{\"arrowcolor\":\"#2a3f5f\",\"arrowhead\":0,\"arrowwidth\":1},\"geo\":{\"bgcolor\":\"white\",\"landcolor\":\"#E5ECF6\",\"subunitcolor\":\"white\",\"showland\":true,\"showlakes\":true,\"lakecolor\":\"white\"},\"title\":{\"x\":0.05},\"mapbox\":{\"style\":\"light\"}}},\"title\":{\"text\":\"Volume levels for the limit order book\"},\"yaxis\":{\"title\":{\"text\":\"Timestamp\"}},\"xaxis\":{\"title\":{\"text\":\"Volume\"}}},                        {\"responsive\": true}                    ).then(function(){\n",
       "                            \n",
       "var gd = document.getElementById('8c5475ff-0a05-4d43-bbf5-0449daa03645');\n",
       "var x = new MutationObserver(function (mutations, observer) {{\n",
       "        var display = window.getComputedStyle(gd).display;\n",
       "        if (!display || display === 'none') {{\n",
       "            console.log([gd, 'removed!']);\n",
       "            Plotly.purge(gd);\n",
       "            observer.disconnect();\n",
       "        }}\n",
       "}});\n",
       "\n",
       "// Listen for the removal of the full notebook cells\n",
       "var notebookContainer = gd.closest('#notebook-container');\n",
       "if (notebookContainer) {{\n",
       "    x.observe(notebookContainer, {childList: true});\n",
       "}}\n",
       "\n",
       "// Listen for the clearing of the current output cell\n",
       "var outputEl = gd.closest('.output');\n",
       "if (outputEl) {{\n",
       "    x.observe(outputEl, {childList: true});\n",
       "}}\n",
       "\n",
       "                        })                };                });            </script>        </div>"
      ]
     },
     "metadata": {},
     "output_type": "display_data"
    }
   ],
   "source": [
    "import plotly.graph_objects as go\n",
    "from plotly.subplots import make_subplots\n",
    "\n",
    "fig = go.Figure()\n",
    "\n",
    "for col_index, col_values in enumerate(ask_bid_volume[\"samples\"].transpose()):\n",
    "    fig.add_trace(go.Bar(y=ask_bid_volume.index, x=col_values, name=f'Level {col_index + 1}', orientation='h', marker=dict(color=f'rgba(0, 0, 255, {0.5 + col_index * 0.1})')))\n",
    "\n",
    "fig.update_layout(title='Volume levels for the limit order book', yaxis_title='Timestamp', xaxis_title='Volume')\n",
    "fig.show()\n"
   ]
  }
 ],
 "metadata": {
  "kernelspec": {
   "display_name": "Python 3 (ipykernel)",
   "language": "python",
   "name": "python3"
  },
  "language_info": {
   "codemirror_mode": {
    "name": "ipython",
    "version": 3
   },
   "file_extension": ".py",
   "mimetype": "text/x-python",
   "name": "python",
   "nbconvert_exporter": "python",
   "pygments_lexer": "ipython3",
   "version": "3.8.10"
  }
 },
 "nbformat": 4,
 "nbformat_minor": 5
}
