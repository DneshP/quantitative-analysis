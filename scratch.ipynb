{
 "cells": [
  {
   "cell_type": "markdown",
   "id": "7b97d52d-d8aa-44e1-a359-3ec40f3260b8",
   "metadata": {},
   "source": [
    "## illustrating a simple algorithm of a pegged buy order and sell order"
   ]
  },
  {
   "cell_type": "code",
   "execution_count": 1,
   "id": "8f86bd72-6543-4806-ae92-739606d617a2",
   "metadata": {},
   "outputs": [
    {
     "ename": "NameError",
     "evalue": "name 'cancel_order' is not defined",
     "output_type": "error",
     "traceback": [
      "\u001b[0;31m---------------------------------------------------------------------------\u001b[0m",
      "\u001b[0;31mNameError\u001b[0m                                 Traceback (most recent call last)",
      "Cell \u001b[0;32mIn[1], line 83\u001b[0m\n\u001b[1;32m     81\u001b[0m pegged_stocks \u001b[38;5;241m=\u001b[39m [{\u001b[38;5;124m\"\u001b[39m\u001b[38;5;124mstock\u001b[39m\u001b[38;5;124m\"\u001b[39m: \u001b[38;5;124m\"\u001b[39m\u001b[38;5;124mAMZ\u001b[39m\u001b[38;5;124m\"\u001b[39m, \u001b[38;5;124m\"\u001b[39m\u001b[38;5;124mqty\u001b[39m\u001b[38;5;124m\"\u001b[39m: \u001b[38;5;241m10\u001b[39m, \u001b[38;5;124m\"\u001b[39m\u001b[38;5;124mtype\u001b[39m\u001b[38;5;124m\"\u001b[39m: \u001b[38;5;124m\"\u001b[39m\u001b[38;5;124mbid\u001b[39m\u001b[38;5;124m\"\u001b[39m, \u001b[38;5;124m\"\u001b[39m\u001b[38;5;124moffset\u001b[39m\u001b[38;5;124m\"\u001b[39m: \u001b[38;5;241m3\u001b[39m, \u001b[38;5;124m\"\u001b[39m\u001b[38;5;124mflip_offset\u001b[39m\u001b[38;5;124m\"\u001b[39m: \u001b[38;5;241m2\u001b[39m}]\n\u001b[1;32m     82\u001b[0m \u001b[38;5;28;01mfor\u001b[39;00m peg \u001b[38;5;129;01min\u001b[39;00m pegged_stocks:\n\u001b[0;32m---> 83\u001b[0m     \u001b[43mpegged_order\u001b[49m\u001b[43m(\u001b[49m\u001b[43mpeg\u001b[49m\u001b[43m[\u001b[49m\u001b[38;5;124;43m\"\u001b[39;49m\u001b[38;5;124;43mstock\u001b[39;49m\u001b[38;5;124;43m\"\u001b[39;49m\u001b[43m]\u001b[49m\u001b[43m,\u001b[49m\u001b[43m \u001b[49m\u001b[43mpeg\u001b[49m\u001b[43m[\u001b[49m\u001b[38;5;124;43m\"\u001b[39;49m\u001b[38;5;124;43mqty\u001b[39;49m\u001b[38;5;124;43m\"\u001b[39;49m\u001b[43m]\u001b[49m\u001b[43m,\u001b[49m\u001b[43m \u001b[49m\u001b[43mpeg\u001b[49m\u001b[43m[\u001b[49m\u001b[38;5;124;43m\"\u001b[39;49m\u001b[38;5;124;43mtype\u001b[39;49m\u001b[38;5;124;43m\"\u001b[39;49m\u001b[43m]\u001b[49m\u001b[43m,\u001b[49m\u001b[43m \u001b[49m\u001b[43mpeg\u001b[49m\u001b[43m[\u001b[49m\u001b[38;5;124;43m\"\u001b[39;49m\u001b[38;5;124;43moffset\u001b[39;49m\u001b[38;5;124;43m\"\u001b[39;49m\u001b[43m]\u001b[49m\u001b[43m,\u001b[49m\u001b[43m \u001b[49m\u001b[43mpeg\u001b[49m\u001b[43m[\u001b[49m\u001b[38;5;124;43m\"\u001b[39;49m\u001b[38;5;124;43mflip_offset\u001b[39;49m\u001b[38;5;124;43m\"\u001b[39;49m\u001b[43m]\u001b[49m\u001b[43m)\u001b[49m\n\u001b[1;32m     85\u001b[0m time\u001b[38;5;241m.\u001b[39msleep(\u001b[38;5;241m1\u001b[39m)  \u001b[38;5;66;03m# Wait for 2 seconds before checking again\u001b[39;00m\n",
      "Cell \u001b[0;32mIn[1], line 65\u001b[0m, in \u001b[0;36mpegged_order\u001b[0;34m(stock, qty, type, offset, flip_offset)\u001b[0m\n\u001b[1;32m     62\u001b[0m flip_offer_id_cancelled \u001b[38;5;241m=\u001b[39m \u001b[38;5;28;01mFalse\u001b[39;00m\n\u001b[1;32m     64\u001b[0m \u001b[38;5;28;01mif\u001b[39;00m place_offer_price \u001b[38;5;241m!=\u001b[39m offer:\n\u001b[0;32m---> 65\u001b[0m     offer_id_cancelled \u001b[38;5;241m=\u001b[39m \u001b[43mcancel_order\u001b[49m(placed_orders[internal_order_id]\u001b[38;5;241m.\u001b[39mget(\u001b[38;5;124m\"\u001b[39m\u001b[38;5;124moffer_id\u001b[39m\u001b[38;5;124m\"\u001b[39m))\n\u001b[1;32m     66\u001b[0m \u001b[38;5;28;01melse\u001b[39;00m:\n\u001b[1;32m     67\u001b[0m     \u001b[38;5;28;01mif\u001b[39;00m place_offer_price \u001b[38;5;241m==\u001b[39m offer \u001b[38;5;129;01mand\u001b[39;00m order_status(placed_orders[internal_order_id]\u001b[38;5;241m.\u001b[39mget(\u001b[38;5;124m\"\u001b[39m\u001b[38;5;124moffer\u001b[39m\u001b[38;5;124m\"\u001b[39m, {})\u001b[38;5;241m.\u001b[39mget(\u001b[38;5;124m\"\u001b[39m\u001b[38;5;124mid\u001b[39m\u001b[38;5;124m\"\u001b[39m)) \u001b[38;5;241m==\u001b[39m \u001b[38;5;28;01mTrue\u001b[39;00m:\n",
      "\u001b[0;31mNameError\u001b[0m: name 'cancel_order' is not defined"
     ]
    }
   ],
   "source": [
    "# Pegged order\n",
    "# the use of pegged order is take advantage of the change in prices, spread\n",
    "# so buy low sell high \n",
    "# For a pegged order to work the following infrmation is needed\n",
    "# the tracking type, best bid, best ask and the buy offset and the sell offset, qty\n",
    "\n",
    "# Say Now, if the best bid changes to $100.50, we would like to track this and buy if the price drops to the desired offset and sell for sell-offset\n",
    "\n",
    "# Let us look at an example of pegged order. Suppose your strategy requires you \n",
    "# to buy a limit order to be filled at three ticks lower than the current best bid and a sell limit order to be filled at two ticks higher than the current best offer. \n",
    "# When the bid price changes, the pegged order becomes a composite order comprising\n",
    "\n",
    "import threading\n",
    "import time\n",
    "import random\n",
    "\n",
    "def set_timeout(func, seconds):\n",
    "    timer = threading.Timer(seconds, func)\n",
    "    timer.start()\n",
    "\n",
    "def get_price_for_stock_type(type, stock):\n",
    "    stock_data = {\n",
    "        \"AMZ\": {\n",
    "            \"bid_prices\": [100.50, 103.10, 102.30, 105.50],\n",
    "            \"ask_prices\": [102.50, 105.10, 104.30, 107.50],\n",
    "        },\n",
    "    }\n",
    "    if type not in [\"bid\", \"ask\"]:\n",
    "        raise ValueError(\"Invalid order type. Use 'bid' or 'ask'.\")\n",
    "    else:\n",
    "        return random.choice(stock_data[stock][f'{type}_prices'])\n",
    "\n",
    "# internal_order_id_hash: { offer_id: #123, flip_offer_id: #321 }\n",
    "placed_orders = {}\n",
    "\n",
    "def pegged_order(stock, qty, type, offset, flip_offset):\n",
    "    current_type_price = get_price_for_stock_type(type, stock)\n",
    "    is_bid = type == 'bid'\n",
    "    offer = current_type_price - offset if is_bid else current_type_price + offset\n",
    "    flip_offer = current_type_price + flip_offset if is_bid else current_type_price - flip_offset\n",
    "    internal_order_id = f'{stock}_{offer}_{flip_offer}'\n",
    "\n",
    "    if internal_order_id in placed_orders:\n",
    "        return\n",
    "    else:\n",
    "        placed_orders[internal_order_id] = {}\n",
    "        place_offer_price = placed_orders[internal_order_id].get(\"offer\", {}).get(\"price\")\n",
    "        place_flip_offer_price = placed_orders[internal_order_id].get(\"flip_offer\", {}).get(\"price\")\n",
    "        offer_id_cancelled = False\n",
    "        flip_offer_id_cancelled = False\n",
    "\n",
    "        if place_offer_price != offer:\n",
    "            offer_id_cancelled = cancel_order(placed_orders[internal_order_id].get(\"offer_id\"))\n",
    "        else:\n",
    "            if place_offer_price == offer and order_status(placed_orders[internal_order_id].get(\"offer\", {}).get(\"id\")) == True:\n",
    "                del placed_orders[internal_order_id][\"offer\"]\n",
    "            placed_orders[internal_order_id][\"offer\"] = {\"id\": place_order(offer, qty), \"price\": offer}\n",
    "\n",
    "        if place_flip_offer_price != flip_offer:\n",
    "            flip_offer_id_cancelled = cancel_order(placed_orders[internal_order_id].get(\"flip_offer_id\"))\n",
    "        else:\n",
    "            if place_offer_price == offer and order_status(placed_orders[internal_order_id].get(\"flip_offer\", {}).get(\"id\")) == True:\n",
    "                del placed_orders[internal_order_id][\"flip_offer\"]\n",
    "            placed_orders[internal_order_id][\"flip_offer\"] = {\"id\": place_order(flip_offer, qty), \"price\": flip_offer}\n",
    "\n",
    "        if offer_id_cancelled and flip_offer_id_cancelled:\n",
    "            del placed_orders[internal_order_id]\n",
    "\n",
    "# This loop will check pegged orders every 1 seconds\n",
    "while True:\n",
    "    pegged_stocks = [{\"stock\": \"AMZ\", \"qty\": 10, \"type\": \"bid\", \"offset\": 3, \"flip_offset\": 2}]\n",
    "    for peg in pegged_stocks:\n",
    "        pegged_order(peg[\"stock\"], peg[\"qty\"], peg[\"type\"], peg[\"offset\"], peg[\"flip_offset\"])\n",
    "    \n",
    "    time.sleep(1)  # Wait for 2 seconds before checking again\n"
   ]
  }
 ],
 "metadata": {
  "kernelspec": {
   "display_name": "Python 3 (ipykernel)",
   "language": "python",
   "name": "python3"
  },
  "language_info": {
   "codemirror_mode": {
    "name": "ipython",
    "version": 3
   },
   "file_extension": ".py",
   "mimetype": "text/x-python",
   "name": "python",
   "nbconvert_exporter": "python",
   "pygments_lexer": "ipython3",
   "version": "3.8.10"
  }
 },
 "nbformat": 4,
 "nbformat_minor": 5
}
