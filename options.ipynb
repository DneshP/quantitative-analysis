{
 "cells": [
  {
   "cell_type": "markdown",
   "metadata": {},
   "source": [
    "### What are Options?\n",
    "\n",
    "An option is a derivative contract that gives the buyer or holder the right, but not the obligation, to buy or sell an underlying financial asset or commodity in the future at a predetermined price called strike price. Unlike futures, where the buyer has to fulfill the contract, an option gives the choice of whether to exercise or not. There are two types of options:\n",
    "\n",
    "Call options convey the right to own an asset at a predetermined price in the expectation that the price of the underlying asset will rise at some point in the future. A premium is paid for this right when the position is first opened. As the market price of the underlying asset rises above the strike price, the cost of the premium is offset by an increase in the option's value and the option becomes increasingly profitable.\n",
    "Put options convey the right to sell an asset in the expectation that the price of the underlying asset will fall at some point in the future. A premium is paid for this right when the position is first opened. As the market price of the underlying asset decreases below the strike price, the cost of the premium is offset by an increase in the option's value and the option becomes increasingly profitable.\n",
    "Options provide investors with more leverage that is available with stocks giving identical investment. Profits and losses are magnified. However, option holders, unlike shareholders, do not receive the underlying company's dividends or voting rights.\n",
    "\n",
    "For example, assume an investor buys 1,000 shares of company XYZ Corp. at $10 each for an initial capital outlay of $10,000. If the share price increased to $11 the investor's capital would increase to $11,000 for a 10% gain.\n",
    "\n",
    "With option contracts, a 10% move in the value of the underlying asset could translate into a larger increase or decrease in the price of the option. As an example, if a premium of $0.50 is paid for a call option with a strike price of $10.25, when the market value of the underlying asset price rises to $11.00, the option value rises to $0.75 and can be sold for an increase of 50%."
   ]
  },
  {
   "cell_type": "markdown",
   "metadata": {},
   "source": [
    "### Options Pricing\n",
    "\n",
    "Option premiums and the subsequent movement of option prices are determined through a pricing model such as Black-Scholes. Standard inputs of an options pricing model are:\n",
    "\n",
    "Underlying Asset Price As detailed above, the relationship between the strike price and the underlying asset price will have a strong influence on the price of an option.\n",
    "For a call option, the higher the underlying asset price, the higher the option premium. The payout at exercise of the option is the difference between the underlying asset price and the strike price. Call options with an underlying asset price below the strike are \"out of the money\", at the strike are \"at the money\", and above the strike are \"in the money\".\n",
    "For a put option, the lower the underlying asset price, the higher the option premium. The payout at exercise of the option is the difference between the strike price and the underlying asset price. Put options with an underlying asset price above the strike are \"out of the money\", at the strike are \"at the money\", and below the strike are \"in the money\"\n",
    "An option expiring today would be worth its \"in the money\" amount, or zero if the option was \"at the money\" or \"out of the money\". This is called Intrinsic Value.\n",
    "\n",
    "The strike price represents the pre-determined price at which an option contract may be exercised, where a call buyer can buy the underlying asset or a put buyer can sell the underlying asset.\n",
    "Consider a company whose share price is $32.90. An investor who expects the share price to rise is considering buying a call option at strike prices of $33.00 or $35.00. The investor expects the share price to rise within the following 90 days. The question the investor faces is what price should be paid for the rights conveyed by the call option.\n",
    "The probability of the share price rising to the $33.00 strike is greater than the chance of the shares reaching $35.00. Therefore the premium cost for the $33.00 strike is higher than the premium cost of the $35.00 strike.\n",
    "The opposite is true for put options, since they convey selling rights.\n",
    "Interest Rate The rate of interest is a factor in determining the premium cost of an option. That's because investors are faced with an allocation choice between various assets including the risk free rate of interest on government securities. Investors tend to set the value in the calculator at the rate available on government bills for the period of the option, While the interest is a factor, its significance is fairly low.\n",
    "Implied Volatility The greater the forecasted price movement, or implied volatility, the greater the probability that an option will increase in value. Therefore, the greater the implied volatility, the greater the option's price. Implied volatility does not suggest prices will go up or down, only that prices will move. Implied volatility is an estimate for the option contract period, and should not be confused with the historic volatility of the contract.\n",
    "Time to Expiration An option that has time before expiration also has Extrinsic Value. The Extrinsic Value represents the probability that an option's underlying asset value will move in the future producing an increase in the Intrinsic Value. This The more time to expiration, the greater the probability that an underlying asset move will increase an option's Intrinsic Value. Therefore, for both Puts and Calls, the greater the time to expiration, the greater the Extrinsic Value. An options premium (or market value) is equal to its Intrinsic Value plus Extrinsic Value. At option expiration there is no Extrinsic Value remaining and so the Options Market Value will be equal to its Intrinsic Value.\n",
    "Option Style American style options can be exercised at any point. European style options can only be exercised at expiration.\n",
    "Dividends tend to affect an option price most when there are changes in the dividend amount and around ex-dividend dates."
   ]
  },
  {
   "cell_type": "markdown",
   "metadata": {},
   "source": [
    "### Risks\n",
    "\n",
    "The potential loss in a long call or long put is limited to the premium paid.\n",
    "\n",
    "Conversely, the potential loss in a short call or short put is theoretically unlimited because it depends on how high the price can rise.\n",
    "\n",
    "Different options can be traded simultaneously as part of a strategy (e.g. buying one call and one put on the same underlying)."
   ]
  },
  {
   "cell_type": "markdown",
   "metadata": {},
   "source": [
    "### What are Future Options?\n",
    "\n",
    "A option is a derivative contract that gives the buyer or holder the right, but not the obligation, to buy or sell an underlying financial asset or commodity in the future at a predetermined price called strike price. Unlike futures, where the buyer has to fulfill the contract, an option gives the choice of whether to exercise or not.\n",
    "\n",
    "Futures Options are exchange traded options contracts over an exchange traded futures contract. Many of the same concepts and principles which are relevant to options, are relevant to futures options.\n",
    "\n",
    "In the case of a Futures Option, if the option is exercised, it results in the establishment of a Futures contract. In the case of an Option, if the option is exercised, it results in either (1) in the case of a deliverable contract, the transfer of the actual underlying security or commodity or (2) in the case of cash settled contract, a cash adjustment.\n",
    "\n",
    "The buyer of a Futures option has the right, but not the obligation, to enter into a Futures contract at the exercise price of the Futures option. For this right, the buyer pays an option premium to the option seller.\n",
    "\n",
    "The seller of a Futures option assumes the obligation to enter into a Futures contract at the exercise price of the Futures option if the option is validly exercised. For taking on this obligation, the seller receives an option premium from the option buyer. Like Futures contracts, Futures Options are standardised and interchangeable, so that having bought a Futures Option it is possible to close it out before its expiry or exercise.\n",
    "\n",
    "An option will be expressed to be either a European style option or an American style option. European options may be exercised only on the date on which the option expires (Expiration Date) and not before. American options may be exercised at any time up to and including the Expiration Date.\n",
    "\n",
    "There are two types of options:\n",
    "\n",
    "A call option gives the buyer the right to buy a Futures contract at a designated price at or before the Expiration Date of the option (Call Option). The seller of a Call Option has the obligation to sell a Futures contract if the Futures option is exercised by the buyer.\n",
    "A put option gives the buyer the right to sell a Futures contract at the exercise price (Put Option). The seller of a Put Option has the obligation to purchase the Futures contract if the Put Option is exercised by the buyer.\n",
    "The table below sets out the results from the buyer's and seller's viewpoint when the buyer exercises a Futures Call Option or Put Option:\n",
    "\n",
    "Buyer Exercises\t\tEffect on Seller\t\n",
    "Bought Call Option\tBought Futures (at the exercise price of the option)\tSold Call Option\tSold Futures (at the exercise price of the option)\n",
    "Bought Put Option\tSold Futures (at the exercise price of the option)\tSold Put Option\tBought Futures (at the exercise price of the option)"
   ]
  },
  {
   "cell_type": "markdown",
   "metadata": {},
   "source": [
    "### Future Options Margin and Profit & Loss\n",
    "\n",
    "This section contains a description of the basis upon which IBKR establishes margin requirements for Futures Options.\n",
    "\n",
    "For a bought Futures option, the loss is limited to the option premium which was paid, which is non-refundable. For a bought option margins will not be called.\n",
    "\n",
    "For a sold Futures option, there is a similar liability to a holder of the underlying Futures contract that is, potentially unlimited. However, there is limited profit potential, as a seller cannot earn more than the premium for which the option is sold.\n",
    "\n",
    "Various strategies involving both bought and sold positions, combinations with positions in the underlying (e.g. a covered call), have bespoke margin requirements. You can review these on the margin pages of the IBKR web site.\n",
    "\n",
    "The table below sets out profit and loss situations when trading Call Futures Options and Put Futures Options.\n",
    "\n",
    "It sets out the levels of the underlying Futures contract at the time of opening and closing the option trade that will be favourable and unfavourable for the four basic option strategies. Option trading is a complex area, and an option trader can suffer losses even if the price of the underlying asset (in this case a Futures contract) moves favourably.\n",
    "\n",
    "| Strategy    | Profitable trades  | Unprofitable trades |\n",
    "|-------------|--------------------|----------------------|\n",
    "| Bought call | Low                | High                 |\n",
    "|             | High               | Same or Lower        |\n",
    "| Bought put  | High               | Low                  |\n",
    "|             | Low                | Same or Higher       |\n",
    "| Sold call   | High               | Same or Lower        |\n",
    "|             | Low                | High                 |\n",
    "| Sold put    | Low                | Same or Higher       |\n",
    "|             | High               | Low                  |\n",
    "\n",
    "**Options risk profile: If you propose to trade in Futures options, the maximum loss in buying an option is the premium paid, but the risks in selling an option are essentially unlimited.**\n"
   ]
  }
 ],
 "metadata": {
  "language_info": {
   "name": "python"
  }
 },
 "nbformat": 4,
 "nbformat_minor": 2
}
