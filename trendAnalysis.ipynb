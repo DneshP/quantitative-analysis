{
 "cells": [
  {
   "cell_type": "markdown",
   "metadata": {},
   "source": [
    "Simple Moving Average, with different windows shows the effects of smoothing"
   ]
  },
  {
   "cell_type": "code",
   "execution_count": null,
   "metadata": {
    "vscode": {
     "languageId": "plaintext"
    }
   },
   "outputs": [],
   "source": [
    "import yfinance as yf\n",
    "from datetime import datetime, timedelta\n",
    "import matplotlib.pyplot as plt\n",
    "import pandas as pd\n",
    "import numpy as np\n",
    "\n",
    "ticker_symbol = \"AMZN\"\n",
    "start = (datetime.now() - timedelta(days=365)).strftime(\"%Y-%m-%d\")\n",
    "today = datetime.now().strftime(\"%Y-%m-%d\")\n",
    "\n",
    "stock_data = yf.download(ticker_symbol, start=start, end=today)\n",
    "\n",
    "# Print the fetched data\n",
    "print(stock_data.head())\n",
    "\n",
    "\n",
    "# plot\n",
    "plt.figure(figsize=(15, 7))\n",
    "\n",
    "plt.xlabel(\"Time\")\n",
    "plt.xlabel(\"Price\")\n",
    "\n",
    "stock_data[\"Adj Close\"].plot(linewidth=2.0)\n",
    "\n",
    "stock_data[\"SMA-3\"] = stock_data[\"Adj Close\"].rolling(3).mean()\n",
    "stock_data[\"SMA-3\"].plot(linewidth=2.0)\n",
    "\n",
    "stock_data[\"SMA-10\"] = stock_data[\"Adj Close\"].rolling(10).mean()\n",
    "stock_data[\"SMA-10\"].plot(linewidth=2.0)\n",
    "\n",
    "stock_data[\"SMA-25\"] = stock_data[\"Adj Close\"].rolling(30).mean()\n",
    "# stock_data[\"SMA-25\"].plot(linewidth=2.0)\n",
    "columns = [\"Close\",\"SMA-3\", \"SMA-10\", \"SMA-25\"]\n",
    "plt.legend(columns, prop={'size': 15})\n",
    "plt.show()"
   ]
  }
 ],
 "metadata": {
  "language_info": {
   "name": "python"
  }
 },
 "nbformat": 4,
 "nbformat_minor": 2
}
