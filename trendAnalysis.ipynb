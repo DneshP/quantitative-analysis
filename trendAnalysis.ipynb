{
 "cells": [
  {
   "cell_type": "markdown",
   "metadata": {},
   "source": [
    "# Simple Moving Average, with different windows shows the effects of smoothing\n",
    "# Exponential Moving Average, more emphasis on recent price changes"
   ]
  },
  {
   "cell_type": "code",
   "execution_count": null,
   "metadata": {
    "vscode": {
     "languageId": "plaintext"
    }
   },
   "outputs": [],
   "source": [
    "import yfinance as yf\n",
    "from datetime import datetime, timedelta\n",
    "import matplotlib.pyplot as plt\n",
    "import pandas as pd\n",
    "import numpy as np\n",
    "\n",
    "ticker_symbol = \"AMZN\"\n",
    "start = (datetime.now() - timedelta(days=365)).strftime(\"%Y-%m-%d\")\n",
    "today = datetime.now().strftime(\"%Y-%m-%d\")\n",
    "\n",
    "stock_data = yf.download(ticker_symbol, start=start, end=today)"
   ]
  },
  {
   "cell_type": "code",
   "execution_count": null,
   "metadata": {
    "vscode": {
     "languageId": "plaintext"
    }
   },
   "outputs": [],
   "source": [
    "# Visualise\n",
    "import matplotlib.pyplot as plt\n",
    "import plotly.graph_objects as go\n",
    "from plotly.subplots import make_subplots\n",
    "\n",
    "fig = make_subplots(specs=[[{\"secondary_y\": True}]])\n",
    "\n",
    "# alpha\n",
    "alpha = 0.1\n",
    "\n",
    "stock_data[\"SMA-3\"] = stock_data[\"Adj Close\"].rolling(3).mean()\n",
    "stock_data[\"SMA-10\"] = stock_data[\"Adj Close\"].rolling(10).mean()\n",
    "stock_data[\"EWM\"] = stock_data[\"Adj Close\"].ewm(alpha=alpha, adjust=False).mean()\n",
    "\n",
    "fig.add_trace(go.Scatter(x=stock_data.index, y=stock_data[\"Adj Close\"], name=\"Price\"), secondary_y=False)\n",
    "fig.add_trace(go.Scatter(x=stock_data.index, y=stock_data[\"SMA-3\"], name=\"SMA 3\"), secondary_y=True)\n",
    "fig.add_trace(go.Scatter(x=stock_data.index, y=stock_data[\"SMA-10\"], name=\"SMA 10\"), secondary_y=True)\n",
    "fig.add_trace(go.Scatter(x=stock_data.index, y=stock_data[\"EWM\"], name=\"EWM\"), secondary_y=True)\n",
    "\n",
    "fig.update_layout(title_text=\"Trend Analysis\")\n",
    "fig.update_xaxes(title_text=\"Date\")\n",
    "\n",
    "fig.show()"
   ]
  }
 ],
 "metadata": {
  "language_info": {
   "name": "python"
  }
 },
 "nbformat": 4,
 "nbformat_minor": 2
}
